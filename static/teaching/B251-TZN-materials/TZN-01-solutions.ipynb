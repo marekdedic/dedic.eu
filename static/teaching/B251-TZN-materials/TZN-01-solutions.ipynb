{
 "cells": [
  {
   "cell_type": "markdown",
   "metadata": {},
   "source": [
    "# Tutorial 1 - Neural network intro\n",
    "\n",
    "In this tutorial, we'll introduce the **Python** programming language and some of its libraries, most notably [PyTorch](https://pytorch.org/).\n",
    "\n",
    "The approaches used by PyTorch are broadly applicable to other frameworks as well, such as [TensorFlow](https://www.tensorflow.org/), [JAX](https://docs.jax.dev/en/latest/), [Flux.jl](https://fluxml.ai/) or [Deep Learning Toolbox](https://www.mathworks.com/products/deep-learning.html).\n",
    "\n",
    "For a more detailed overview of PyTorch you can also go through the [oficial tutorials](https://pytorch.org/tutorials/)."
   ]
  },
  {
   "cell_type": "markdown",
   "metadata": {},
   "source": [
    "## Package installation with uv and Jupyter\n",
    "\n",
    "We'll first install the [uv](https://docs.astral.sh/uv/) package manager. We can install Jupyter system-wide with uv by running:\n",
    "\n",
    "```bash\n",
    "$ uv tool install jupyterlab\n",
    "```\n",
    "\n",
    "We need to create a uv project and connect it to Jupyter:\n",
    "```bash\n",
    "$ uv init\n",
    "$ uv add --dev ipykernel\n",
    "$ uv run ipython kernel install --user --env VIRTUAL_ENV $(pwd)/.venv --name=tzn\n",
    "```\n",
    "\n",
    "In order for the newly installed Jupyter kernel to be available, we need to restart Jupyter.\n",
    "\n",
    "Finally, we can install the required packages:\n",
    "```bash\n",
    "$ uv add matplotlib numpy scikit-learn torch torch-geometric torchvision\n",
    "$ uv add torch-cluster -f https://data.pyg.org/whl/torch-2.8.0+cpu.html\n",
    "```"
   ]
  },
  {
   "cell_type": "markdown",
   "metadata": {},
   "source": [
    "## Task 1\n",
    "\n",
    "Run the aforementioned steps to create a package and have the next cell run without errors. It should print something like `Torch version: 2.8.0`."
   ]
  },
  {
   "cell_type": "code",
   "execution_count": 1,
   "metadata": {},
   "outputs": [
    {
     "name": "stdout",
     "output_type": "stream",
     "text": [
      "Torch version: 2.8.0+cu128\n"
     ]
    }
   ],
   "source": [
    "import numpy as np\n",
    "from matplotlib import pyplot as plt\n",
    "\n",
    "import torch\n",
    "from torch import nn\n",
    "from torch.utils.data import DataLoader\n",
    "from torchvision import datasets, transforms\n",
    "\n",
    "print(\"Torch version:\", torch.__version__)"
   ]
  },
  {
   "cell_type": "markdown",
   "metadata": {},
   "source": [
    "## Tensors and working with them in PyTorch\n",
    "\n",
    "Let's first take a look at how to create and manipulate tensors and what is happening in the background in order to automatically compute gradients. \n",
    "\n",
    "A tensor is in essence a name for an array with $n$ dimentisons - i. e. like the `ndarray` in numpy."
   ]
  },
  {
   "cell_type": "markdown",
   "metadata": {},
   "source": [
    "We can create a PyTorch tensor by converting from python or numpy:"
   ]
  },
  {
   "cell_type": "code",
   "execution_count": 2,
   "metadata": {},
   "outputs": [
    {
     "name": "stdout",
     "output_type": "stream",
     "text": [
      "tensor([[1, 2],\n",
      "        [3, 4]])\n"
     ]
    }
   ],
   "source": [
    "a = torch.tensor([[1, 2], [3,4]])\n",
    "print(a)"
   ]
  },
  {
   "cell_type": "markdown",
   "metadata": {},
   "source": [
    "We can also convert it back to numpy:"
   ]
  },
  {
   "cell_type": "code",
   "execution_count": 3,
   "metadata": {},
   "outputs": [
    {
     "name": "stdout",
     "output_type": "stream",
     "text": [
      "[[1 2]\n",
      " [3 4]]\n"
     ]
    }
   ],
   "source": [
    "print(a.numpy())"
   ]
  },
  {
   "cell_type": "markdown",
   "metadata": {},
   "source": [
    "A tensor always has the attributes `shape` and `dtype`:"
   ]
  },
  {
   "cell_type": "code",
   "execution_count": 4,
   "metadata": {},
   "outputs": [
    {
     "name": "stdout",
     "output_type": "stream",
     "text": [
      "Shape: torch.Size([2, 2])\n",
      "Element data type: torch.int64\n"
     ]
    }
   ],
   "source": [
    "print('Shape:', a.shape)\n",
    "print('Element data type:', a.dtype)"
   ]
  },
  {
   "cell_type": "markdown",
   "metadata": {},
   "source": [
    "Other ways of constructing a tensor:"
   ]
  },
  {
   "cell_type": "code",
   "execution_count": 5,
   "metadata": {},
   "outputs": [
    {
     "name": "stdout",
     "output_type": "stream",
     "text": [
      "tensor([[1., 1., 1.]])\n",
      "tensor([[0., 0., 0.]])\n",
      "tensor([[1.1132, 2.5485, 1.5703, 0.0552]])\n",
      "tensor([[0.0648, 0.4012, 0.1246, 0.3300]])\n"
     ]
    }
   ],
   "source": [
    "print(torch.ones((1, 3)))\n",
    "print(torch.zeros((1, 3)))\n",
    "print(torch.randn((1, 4))) # Normal distribution\n",
    "print(torch.rand((1, 4))) # Uniform distribution on [0, 1)"
   ]
  },
  {
   "cell_type": "markdown",
   "metadata": {},
   "source": [
    "We can do basic operations with PyTorch tensors. Let's construct three tensors with the same dtype:"
   ]
  },
  {
   "cell_type": "code",
   "execution_count": 6,
   "metadata": {},
   "outputs": [
    {
     "name": "stdout",
     "output_type": "stream",
     "text": [
      "tensor([[1., 2.],\n",
      "        [3., 4.]])\n",
      "tensor([[1.],\n",
      "        [1.]])\n",
      "tensor([[1.2934],\n",
      "        [0.4699]])\n"
     ]
    }
   ],
   "source": [
    "a = torch.tensor([[1, 2], [3,4]], dtype = torch.float32)\n",
    "b = torch.ones((2, 1))\n",
    "c = torch.randn((2, 1))\n",
    "print(a)\n",
    "print(b)\n",
    "print(c)"
   ]
  },
  {
   "cell_type": "markdown",
   "metadata": {},
   "source": [
    "Matrix multiplication:"
   ]
  },
  {
   "cell_type": "code",
   "execution_count": 7,
   "metadata": {},
   "outputs": [
    {
     "name": "stdout",
     "output_type": "stream",
     "text": [
      "tensor([[3.],\n",
      "        [7.]])\n"
     ]
    }
   ],
   "source": [
    "print(a.matmul(b))"
   ]
  },
  {
   "cell_type": "markdown",
   "metadata": {},
   "source": [
    "Element-wise addition:"
   ]
  },
  {
   "cell_type": "code",
   "execution_count": 8,
   "metadata": {},
   "outputs": [
    {
     "name": "stdout",
     "output_type": "stream",
     "text": [
      "tensor([[2.2934],\n",
      "        [1.4699]])\n"
     ]
    }
   ],
   "source": [
    "print(b.add(c))"
   ]
  },
  {
   "cell_type": "markdown",
   "metadata": {},
   "source": [
    "Element-wise square:"
   ]
  },
  {
   "cell_type": "code",
   "execution_count": 9,
   "metadata": {},
   "outputs": [
    {
     "name": "stdout",
     "output_type": "stream",
     "text": [
      "tensor([[ 1.,  4.],\n",
      "        [ 9., 16.]])\n"
     ]
    }
   ],
   "source": [
    "print(a.square())"
   ]
  },
  {
   "cell_type": "markdown",
   "metadata": {},
   "source": [
    "Euclidean norm of a vector:"
   ]
  },
  {
   "cell_type": "code",
   "execution_count": 10,
   "metadata": {},
   "outputs": [
    {
     "name": "stdout",
     "output_type": "stream",
     "text": [
      "tensor(1.4142)\n"
     ]
    }
   ],
   "source": [
    "print(b.norm())"
   ]
  },
  {
   "cell_type": "markdown",
   "metadata": {},
   "source": [
    "Matrix rank:"
   ]
  },
  {
   "cell_type": "code",
   "execution_count": 11,
   "metadata": {},
   "outputs": [
    {
     "name": "stdout",
     "output_type": "stream",
     "text": [
      "tensor(2)\n"
     ]
    }
   ],
   "source": [
    "print(torch.linalg.matrix_rank(a))"
   ]
  },
  {
   "cell_type": "markdown",
   "metadata": {},
   "source": [
    "Element-wise application of the sine function:"
   ]
  },
  {
   "cell_type": "code",
   "execution_count": 12,
   "metadata": {},
   "outputs": [
    {
     "name": "stdout",
     "output_type": "stream",
     "text": [
      "tensor([[ 0.8415,  0.9093],\n",
      "        [ 0.1411, -0.7568]])\n"
     ]
    }
   ],
   "source": [
    "print(torch.sin(a))"
   ]
  },
  {
   "cell_type": "markdown",
   "metadata": {},
   "source": [
    "Boolean indicator of whether each element is greater than 1:"
   ]
  },
  {
   "cell_type": "code",
   "execution_count": 13,
   "metadata": {},
   "outputs": [
    {
     "name": "stdout",
     "output_type": "stream",
     "text": [
      "tensor([[False,  True],\n",
      "        [ True,  True]])\n"
     ]
    }
   ],
   "source": [
    "print(a.greater(1))"
   ]
  },
  {
   "cell_type": "markdown",
   "metadata": {},
   "source": [
    "## Task 2 - basics of working with data\n",
    "\n",
    "Let's load the [MNIST](https://en.wikipedia.org/wiki/MNIST_database) dataset and calculate the average value of each feature. Running the next cell for the first time downloads the dataset and may take a while."
   ]
  },
  {
   "cell_type": "code",
   "execution_count": 14,
   "metadata": {},
   "outputs": [],
   "source": [
    "data = datasets.MNIST(\n",
    "    root = \"data\",\n",
    "    download = True,\n",
    "    transform = transforms.Compose([transforms.ToTensor(), transforms.Normalize(0, 1)])\n",
    ")"
   ]
  },
  {
   "cell_type": "markdown",
   "metadata": {},
   "source": [
    "We've loaded images from the MNIST dataset. Now try to calculate the average value of each feature accross all images. Use the [`DataLoader`](https://pytorch.org/docs/stable/data.html#torch.utils.data.DataLoader) class."
   ]
  },
  {
   "cell_type": "markdown",
   "metadata": {},
   "source": [
    "## Solution\n",
    "\n",
    "Our data have the following shape and data type:"
   ]
  },
  {
   "cell_type": "code",
   "execution_count": 15,
   "metadata": {},
   "outputs": [
    {
     "data": {
      "text/plain": [
       "Dataset MNIST\n",
       "    Number of datapoints: 60000\n",
       "    Root location: data\n",
       "    Split: Train\n",
       "    StandardTransform\n",
       "Transform: Compose(\n",
       "               ToTensor()\n",
       "               Normalize(mean=0, std=1)\n",
       "           )"
      ]
     },
     "metadata": {},
     "output_type": "display_data"
    }
   ],
   "source": [
    "display(data)"
   ]
  },
  {
   "cell_type": "code",
   "execution_count": 16,
   "metadata": {},
   "outputs": [
    {
     "name": "stdout",
     "output_type": "stream",
     "text": [
      "torch.Size([1, 28, 28])\n",
      "torch.float32\n",
      "5\n"
     ]
    }
   ],
   "source": [
    "print(data[0][0].shape)\n",
    "print(data[0][0].dtype)\n",
    "print(data[0][1]) # Label"
   ]
  },
  {
   "cell_type": "markdown",
   "metadata": {},
   "source": [
    "To make working with the data easier, let's load it with the `DataLoader` helper class:"
   ]
  },
  {
   "cell_type": "code",
   "execution_count": 17,
   "metadata": {},
   "outputs": [],
   "source": [
    "dataloader = DataLoader(data, batch_size = 1)"
   ]
  },
  {
   "cell_type": "markdown",
   "metadata": {},
   "source": [
    "Let's calculate the average of all images:"
   ]
  },
  {
   "cell_type": "code",
   "execution_count": 18,
   "metadata": {},
   "outputs": [],
   "source": [
    "mean_image = torch.zeros(data[0][0].shape, dtype = data[0][0].dtype)\n",
    "\n",
    "for image, _label in dataloader:\n",
    "    mean_image += image[0, :, :, :] # First dimension is the batch, here of size 1\n",
    "\n",
    "mean_image /= len(data)"
   ]
  },
  {
   "cell_type": "markdown",
   "metadata": {},
   "source": [
    "Let's plot this with `matplotlib`:"
   ]
  },
  {
   "cell_type": "code",
   "execution_count": 19,
   "metadata": {},
   "outputs": [
    {
     "data": {
      "text/plain": [
       "<matplotlib.image.AxesImage at 0x77ca18070dd0>"
      ]
     },
     "execution_count": 19,
     "metadata": {},
     "output_type": "execute_result"
    },
    {
     "data": {
      "image/png": "[encoded data removed]",
      "text/plain": [
       "<Figure size 1000x1000 with 1 Axes>"
      ]
     },
     "metadata": {},
     "output_type": "display_data"
    }
   ],
   "source": [
    "plt.figure(figsize=(10, 10))\n",
    "plt.xticks([])\n",
    "plt.yticks([])\n",
    "plt.grid(False)\n",
    "plt.imshow(torch.reshape(mean_image, [mean_image.shape[1], mean_image.shape[2]]), cmap = plt.cm.bone)"
   ]
  },
  {
   "cell_type": "markdown",
   "metadata": {},
   "source": [
    "## Automatic gradient calculation\n",
    "\n",
    "To automatically calculate gradients, we use the regular `torch.Tensor`. To calculate gradients with respect to some variable, we need to set it to `requires_grad = True`. This will make PyTorch track all operations which depend on this variable. To actually calculate the gradient, we need to call the `fun.backward()` method, which will calculate th derivative of `fun` with respect to all the input variables. If `fun` is of greater dimension than 1, we need to pass to `backward` a tensor with repspect to which to calculate the Jacobian."
   ]
  },
  {
   "cell_type": "code",
   "execution_count": 20,
   "metadata": {},
   "outputs": [
    {
     "name": "stdout",
     "output_type": "stream",
     "text": [
      "tensor([1., 2., 3.], requires_grad=True)\n"
     ]
    }
   ],
   "source": [
    "x = torch.tensor([1, 2, 3], dtype = torch.float32, requires_grad = True)\n",
    "print(x)"
   ]
  },
  {
   "cell_type": "code",
   "execution_count": 21,
   "metadata": {},
   "outputs": [
    {
     "name": "stdout",
     "output_type": "stream",
     "text": [
      "Derivative of x^2: tensor([2., 4., 6.])\n",
      "2*x: tensor([2., 4., 6.])\n"
     ]
    }
   ],
   "source": [
    "f = torch.square(x)\n",
    "f.backward(torch.ones_like(f))\n",
    "\n",
    "print('Derivative of x^2:', x.grad)\n",
    "with torch.no_grad():\n",
    "    print('2*x:', 2*x)"
   ]
  },
  {
   "cell_type": "code",
   "execution_count": 22,
   "metadata": {},
   "outputs": [
    {
     "name": "stdout",
     "output_type": "stream",
     "text": [
      "tensor([1., 2., 3.], requires_grad=True)\n"
     ]
    }
   ],
   "source": [
    "x = torch.tensor([1, 2, 3], dtype = torch.float32, requires_grad = True)\n",
    "print(x)"
   ]
  },
  {
   "cell_type": "code",
   "execution_count": 23,
   "metadata": {},
   "outputs": [
    {
     "name": "stdout",
     "output_type": "stream",
     "text": [
      "Derivative of sin(x): tensor([ 0.5403, -0.4161, -0.9900])\n",
      "cos(x): tensor([ 0.5403, -0.4161, -0.9900])\n"
     ]
    }
   ],
   "source": [
    "f = torch.sin(x)\n",
    "f.backward(torch.ones_like(f))\n",
    "    \n",
    "print('Derivative of sin(x):', x.grad)\n",
    "with torch.no_grad():\n",
    "    print('cos(x):', torch.cos(x))"
   ]
  },
  {
   "cell_type": "markdown",
   "metadata": {},
   "source": [
    "## Basic neural net on the MNIST dataset\n",
    "\n",
    "Let's define the basic parameters of the model:"
   ]
  },
  {
   "cell_type": "code",
   "execution_count": 24,
   "metadata": {},
   "outputs": [],
   "source": [
    "batch_size = 50\n",
    "hidden_layer_width = 100\n",
    "output_width = 10\n",
    "learning_rate = 0.01"
   ]
  },
  {
   "cell_type": "markdown",
   "metadata": {},
   "source": [
    "Let's load the training and testing data and create a `DataLoader` for each:"
   ]
  },
  {
   "cell_type": "code",
   "execution_count": 25,
   "metadata": {},
   "outputs": [],
   "source": [
    "data_train = datasets.MNIST(\n",
    "    root = \"data\",\n",
    "    train = True,\n",
    "    download = True,\n",
    "    transform = transforms.Compose([transforms.ToTensor(), transforms.Normalize(0, 1)])\n",
    ")\n",
    "data_test = datasets.MNIST(\n",
    "    root = \"data\",\n",
    "    train = False,\n",
    "    download = True,\n",
    "    transform = transforms.Compose([transforms.ToTensor(), transforms.Normalize(0, 1)])\n",
    ")\n",
    "\n",
    "dataloader_train = DataLoader(data_train, batch_size = batch_size, shuffle = True)\n",
    "dataloader_test = DataLoader(data_test, batch_size = batch_size, shuffle = True)"
   ]
  },
  {
   "cell_type": "markdown",
   "metadata": {},
   "source": [
    "We'll create a simple neural network using `torch.nn.Sequential`, which is a class to put several layers into sequentially in the order of their insertion.\n",
    "\n",
    "The input layer will be a `torch.nn.Flatten`, which will convert the 2D images into vectors.\n",
    "\n",
    "`torch.nn.Sequential` is a specialization of the more general [`tf.nn.Module`](https://pytorch.org/docs/main/generated/torch.nn.Module.html) class."
   ]
  },
  {
   "cell_type": "code",
   "execution_count": 26,
   "metadata": {},
   "outputs": [
    {
     "data": {
      "text/plain": [
       "Sequential(\n",
       "  (0): Flatten(start_dim=1, end_dim=-1)\n",
       ")"
      ]
     },
     "execution_count": 26,
     "metadata": {},
     "output_type": "execute_result"
    }
   ],
   "source": [
    "model = nn.Sequential()\n",
    "model.append(nn.Flatten())"
   ]
  },
  {
   "cell_type": "markdown",
   "metadata": {},
   "source": [
    "Let's add one hidden layer with the `tanh` activation function:"
   ]
  },
  {
   "cell_type": "code",
   "execution_count": 27,
   "metadata": {},
   "outputs": [
    {
     "data": {
      "text/plain": [
       "Sequential(\n",
       "  (0): Flatten(start_dim=1, end_dim=-1)\n",
       "  (1): Linear(in_features=784, out_features=100, bias=True)\n",
       "  (2): Tanh()\n",
       ")"
      ]
     },
     "execution_count": 27,
     "metadata": {},
     "output_type": "execute_result"
    }
   ],
   "source": [
    "model.append(nn.Linear(data_train.data.shape[1] * data_train.data.shape[2], hidden_layer_width))\n",
    "model.append(nn.Tanh())"
   ]
  },
  {
   "cell_type": "markdown",
   "metadata": {},
   "source": [
    "Finally, let's add an output layer with 10 neurons (= number of classes) and the softmax activation function: \n",
    "$$ \\sigma \\left( \\vec{z} \\right)_i = \\frac{e^{\\vec{z}_i}}{\\sum_{j = 1}^K e^{\\vec{z}_j}} $$"
   ]
  },
  {
   "cell_type": "code",
   "execution_count": 28,
   "metadata": {},
   "outputs": [
    {
     "data": {
      "text/plain": [
       "Sequential(\n",
       "  (0): Flatten(start_dim=1, end_dim=-1)\n",
       "  (1): Linear(in_features=784, out_features=100, bias=True)\n",
       "  (2): Tanh()\n",
       "  (3): Linear(in_features=100, out_features=10, bias=True)\n",
       "  (4): Softmax(dim=1)\n",
       ")"
      ]
     },
     "execution_count": 28,
     "metadata": {},
     "output_type": "execute_result"
    }
   ],
   "source": [
    "model.append(nn.Linear(hidden_layer_width, output_width))\n",
    "model.append(nn.Softmax(dim=1))"
   ]
  },
  {
   "cell_type": "markdown",
   "metadata": {},
   "source": [
    "Printing a model will also give us a summary:"
   ]
  },
  {
   "cell_type": "code",
   "execution_count": 29,
   "metadata": {},
   "outputs": [
    {
     "data": {
      "text/plain": [
       "Sequential(\n",
       "  (0): Flatten(start_dim=1, end_dim=-1)\n",
       "  (1): Linear(in_features=784, out_features=100, bias=True)\n",
       "  (2): Tanh()\n",
       "  (3): Linear(in_features=100, out_features=10, bias=True)\n",
       "  (4): Softmax(dim=1)\n",
       ")"
      ]
     },
     "execution_count": 29,
     "metadata": {},
     "output_type": "execute_result"
    }
   ],
   "source": [
    "model"
   ]
  },
  {
   "cell_type": "markdown",
   "metadata": {},
   "source": [
    "Such a model may also be directly applied to data liek a function.\n",
    "\n",
    "Its outputs will be probability vectors. Because we haven't trained the model yet, the results will be random."
   ]
  },
  {
   "cell_type": "code",
   "execution_count": 30,
   "metadata": {},
   "outputs": [
    {
     "data": {
      "text/plain": [
       "tensor([[0.1104, 0.1071, 0.0940, 0.1080, 0.0916, 0.0981, 0.0999, 0.1083, 0.0959,\n",
       "         0.0866]], grad_fn=<SoftmaxBackward0>)"
      ]
     },
     "execution_count": 30,
     "metadata": {},
     "output_type": "execute_result"
    }
   ],
   "source": [
    "model(data_train[0][0])"
   ]
  },
  {
   "cell_type": "markdown",
   "metadata": {},
   "source": [
    "The final prediction of the model could be realized e.g. as the element with the highest probability:"
   ]
  },
  {
   "cell_type": "code",
   "execution_count": 31,
   "metadata": {},
   "outputs": [
    {
     "data": {
      "image/png": "[encoded data removed]",
      "text/plain": [
       "<Figure size 1000x700 with 24 Axes>"
      ]
     },
     "metadata": {},
     "output_type": "display_data"
    }
   ],
   "source": [
    "plt.figure(figsize=(10, 7))\n",
    "for i in range(24):\n",
    "    plt.subplot(4, 6, i + 1)\n",
    "    plt.xticks([])\n",
    "    plt.yticks([])\n",
    "    plt.grid(False)\n",
    "    plt.imshow(data_train[i][0].reshape(28, 28), cmap = plt.cm.bone)\n",
    "    plt.title(model(data_train[i][0]).detach().argmax(axis = 1).item())"
   ]
  },
  {
   "cell_type": "markdown",
   "metadata": {},
   "source": [
    "## Training the model\n",
    "\n",
    "Now we can actually train the model. We'll need two things for that:\n",
    "* The *loss* function - the function that we want to minimize\n",
    "* The *optimizer* - a function that uses the gradient to make one optimization step\n",
    "\n",
    "Note:\n",
    "* `torch.nn.NLLLoss` is the cross-entropy loss function which takes as input a probability distribution\n",
    "* `torch.nn.CrossEntropyLoss` is the cross-netropy loss function, which only takes as inputs class weights (i. e. they don't need to sum up to 1)\n",
    "\n",
    "In other words, `CrossEntropyLoss` combines `NLLLoss` and `Softmax`.\n",
    "\n",
    "We will use the ADAM optimizer."
   ]
  },
  {
   "cell_type": "code",
   "execution_count": 32,
   "metadata": {},
   "outputs": [],
   "source": [
    "loss_fn = nn.NLLLoss()\n",
    "optimizer = torch.optim.Adam(model.parameters())\n",
    "epochs = 10"
   ]
  },
  {
   "cell_type": "markdown",
   "metadata": {},
   "source": [
    "To train the model we will use the `DataLoader`. We will train in mini-batches, which means that we will split the datset into smaller batches, calculate the average loss function for the whole batch and then use it to make one optimization step. One epoch then means using the whole training dataset once (which includes many optimization steps).\n",
    "\n",
    "Let us define 3 functions needed to train the model:"
   ]
  },
  {
   "cell_type": "code",
   "execution_count": 33,
   "metadata": {},
   "outputs": [],
   "source": [
    "def calculate_accuracy(model, dataloader):\n",
    "    num_correct = 0\n",
    "    \n",
    "    with torch.no_grad():\n",
    "        for (X, y) in dataloader:\n",
    "            pred = model(X)\n",
    "            num_correct += (pred.argmax(1) == y).type(torch.float).sum().item()\n",
    "\n",
    "    accuracy = num_correct / len(dataloader.dataset)\n",
    "    return accuracy"
   ]
  },
  {
   "cell_type": "code",
   "execution_count": 34,
   "metadata": {},
   "outputs": [],
   "source": [
    "def calculate_loss_accuracy(model, dataloader, loss_fn):\n",
    "    loss = 0\n",
    "    num_correct = 0\n",
    "    \n",
    "    with torch.no_grad():\n",
    "        for (X, y) in dataloader:\n",
    "            pred = model(X)\n",
    "            loss += loss_fn(pred, y).item()\n",
    "            num_correct += (pred.argmax(1) == y).type(torch.float).sum().item()\n",
    "\n",
    "    loss /= len(dataloader)\n",
    "    accuracy = num_correct / len(dataloader.dataset)\n",
    "    return loss, accuracy"
   ]
  },
  {
   "cell_type": "code",
   "execution_count": 35,
   "metadata": {},
   "outputs": [],
   "source": [
    "def train_model(model, loss_fn, optimizer, epochs, dataloader_train, dataloader_test, early_stopper = None, log_period = 10000):\n",
    "    for epoch in range(epochs):\n",
    "        processed_since_log = 0\n",
    "        for batch, (X, y) in enumerate(dataloader_train):\n",
    "            model.train()\n",
    "            pred = model(X)\n",
    "            loss = loss_fn(pred, y)\n",
    "\n",
    "            loss.backward()\n",
    "            optimizer.step()\n",
    "            optimizer.zero_grad()\n",
    "\n",
    "            processed_since_log += dataloader_train.batch_size\n",
    "\n",
    "            if processed_since_log >= log_period:\n",
    "                current = min((batch + 1) * dataloader_train.batch_size, len(data_train))\n",
    "                loss = loss.item()\n",
    "                model.eval()\n",
    "                train_acc = calculate_accuracy(model, dataloader_train)\n",
    "                test_loss, test_acc = calculate_loss_accuracy(model, dataloader_test, loss_fn)\n",
    "                print(f\"train loss: {loss:>7f}  test loss: {test_loss:>7f}  train accuracy: {train_acc:>3f}  test accuracy: {test_acc:>3f}  [sample {current:>5d}/{len(data_train):>5d}] [epoch {epoch+1:>2d}/{epochs:>2d}]\")\n",
    "                processed_since_log -= log_period"
   ]
  },
  {
   "cell_type": "code",
   "execution_count": 36,
   "metadata": {},
   "outputs": [
    {
     "name": "stdout",
     "output_type": "stream",
     "text": [
      "train loss: -0.820598  test loss: -0.843690  train accuracy: 0.888167  test accuracy: 0.891600  [sample 10000/60000] [epoch  1/10]\n",
      "train loss: -0.832420  test loss: -0.884470  train accuracy: 0.907317  test accuracy: 0.910700  [sample 20000/60000] [epoch  1/10]\n",
      "train loss: -0.942341  test loss: -0.903585  train accuracy: 0.920800  test accuracy: 0.922700  [sample 30000/60000] [epoch  1/10]\n",
      "train loss: -0.896142  test loss: -0.909049  train accuracy: 0.923617  test accuracy: 0.927000  [sample 40000/60000] [epoch  1/10]\n",
      "train loss: -0.855220  test loss: -0.919209  train accuracy: 0.933467  test accuracy: 0.931700  [sample 50000/60000] [epoch  1/10]\n",
      "train loss: -0.908602  test loss: -0.924429  train accuracy: 0.937567  test accuracy: 0.936400  [sample 60000/60000] [epoch  1/10]\n",
      "train loss: -0.952947  test loss: -0.927400  train accuracy: 0.940683  test accuracy: 0.939500  [sample 10000/60000] [epoch  2/10]\n",
      "train loss: -0.889976  test loss: -0.929792  train accuracy: 0.944050  test accuracy: 0.939800  [sample 20000/60000] [epoch  2/10]\n",
      "train loss: -0.941520  test loss: -0.933448  train accuracy: 0.947717  test accuracy: 0.943400  [sample 30000/60000] [epoch  2/10]\n",
      "train loss: -0.912947  test loss: -0.933694  train accuracy: 0.945933  test accuracy: 0.941900  [sample 40000/60000] [epoch  2/10]\n",
      "train loss: -0.934356  test loss: -0.937146  train accuracy: 0.950800  test accuracy: 0.945200  [sample 50000/60000] [epoch  2/10]\n",
      "train loss: -0.949432  test loss: -0.940291  train accuracy: 0.954750  test accuracy: 0.948700  [sample 60000/60000] [epoch  2/10]\n",
      "train loss: -0.968520  test loss: -0.942768  train accuracy: 0.955800  test accuracy: 0.951600  [sample 10000/60000] [epoch  3/10]\n",
      "train loss: -0.842655  test loss: -0.942926  train accuracy: 0.957600  test accuracy: 0.951400  [sample 20000/60000] [epoch  3/10]\n",
      "train loss: -0.948031  test loss: -0.945985  train accuracy: 0.960167  test accuracy: 0.953500  [sample 30000/60000] [epoch  3/10]\n",
      "train loss: -0.958068  test loss: -0.947471  train accuracy: 0.961200  test accuracy: 0.954600  [sample 40000/60000] [epoch  3/10]\n",
      "train loss: -0.942413  test loss: -0.948012  train accuracy: 0.962133  test accuracy: 0.954300  [sample 50000/60000] [epoch  3/10]\n",
      "train loss: -0.977822  test loss: -0.947553  train accuracy: 0.962183  test accuracy: 0.954600  [sample 60000/60000] [epoch  3/10]\n",
      "train loss: -0.972020  test loss: -0.951133  train accuracy: 0.964833  test accuracy: 0.956400  [sample 10000/60000] [epoch  4/10]\n",
      "train loss: -0.932808  test loss: -0.950659  train accuracy: 0.964050  test accuracy: 0.957100  [sample 20000/60000] [epoch  4/10]\n",
      "train loss: -0.922266  test loss: -0.951467  train accuracy: 0.965067  test accuracy: 0.958000  [sample 30000/60000] [epoch  4/10]\n",
      "train loss: -0.973530  test loss: -0.952922  train accuracy: 0.966883  test accuracy: 0.959400  [sample 40000/60000] [epoch  4/10]\n",
      "train loss: -0.925118  test loss: -0.953170  train accuracy: 0.968633  test accuracy: 0.960200  [sample 50000/60000] [epoch  4/10]\n",
      "train loss: -0.982253  test loss: -0.953557  train accuracy: 0.967617  test accuracy: 0.958000  [sample 60000/60000] [epoch  4/10]\n",
      "train loss: -0.934518  test loss: -0.955605  train accuracy: 0.968933  test accuracy: 0.961900  [sample 10000/60000] [epoch  5/10]\n",
      "train loss: -0.976122  test loss: -0.955757  train accuracy: 0.970867  test accuracy: 0.961800  [sample 20000/60000] [epoch  5/10]\n",
      "train loss: -0.969543  test loss: -0.955600  train accuracy: 0.970667  test accuracy: 0.960200  [sample 30000/60000] [epoch  5/10]\n",
      "train loss: -0.965334  test loss: -0.957749  train accuracy: 0.972383  test accuracy: 0.963600  [sample 40000/60000] [epoch  5/10]\n",
      "train loss: -0.978506  test loss: -0.958509  train accuracy: 0.973000  test accuracy: 0.962100  [sample 50000/60000] [epoch  5/10]\n",
      "train loss: -0.970919  test loss: -0.957209  train accuracy: 0.971917  test accuracy: 0.961500  [sample 60000/60000] [epoch  5/10]\n",
      "train loss: -0.940808  test loss: -0.958402  train accuracy: 0.973550  test accuracy: 0.963300  [sample 10000/60000] [epoch  6/10]\n",
      "train loss: -0.977686  test loss: -0.959094  train accuracy: 0.974483  test accuracy: 0.964500  [sample 20000/60000] [epoch  6/10]\n",
      "train loss: -0.971051  test loss: -0.960832  train accuracy: 0.975167  test accuracy: 0.966300  [sample 30000/60000] [epoch  6/10]\n",
      "train loss: -0.957253  test loss: -0.960939  train accuracy: 0.975350  test accuracy: 0.966500  [sample 40000/60000] [epoch  6/10]\n",
      "train loss: -0.975108  test loss: -0.961516  train accuracy: 0.976350  test accuracy: 0.965700  [sample 50000/60000] [epoch  6/10]\n",
      "train loss: -0.963710  test loss: -0.960772  train accuracy: 0.976000  test accuracy: 0.965300  [sample 60000/60000] [epoch  6/10]\n",
      "train loss: -0.976358  test loss: -0.962625  train accuracy: 0.977117  test accuracy: 0.967400  [sample 10000/60000] [epoch  7/10]\n",
      "train loss: -0.955902  test loss: -0.961913  train accuracy: 0.977617  test accuracy: 0.966400  [sample 20000/60000] [epoch  7/10]\n",
      "train loss: -0.990845  test loss: -0.961703  train accuracy: 0.977417  test accuracy: 0.967200  [sample 30000/60000] [epoch  7/10]\n",
      "train loss: -0.985156  test loss: -0.962024  train accuracy: 0.977600  test accuracy: 0.966600  [sample 40000/60000] [epoch  7/10]\n",
      "train loss: -0.996521  test loss: -0.961770  train accuracy: 0.976650  test accuracy: 0.965600  [sample 50000/60000] [epoch  7/10]\n",
      "train loss: -0.974827  test loss: -0.963190  train accuracy: 0.978483  test accuracy: 0.967700  [sample 60000/60000] [epoch  7/10]\n",
      "train loss: -0.977217  test loss: -0.965046  train accuracy: 0.979533  test accuracy: 0.969900  [sample 10000/60000] [epoch  8/10]\n",
      "train loss: -0.942722  test loss: -0.964446  train accuracy: 0.980267  test accuracy: 0.969100  [sample 20000/60000] [epoch  8/10]\n",
      "train loss: -0.997627  test loss: -0.964629  train accuracy: 0.980600  test accuracy: 0.968400  [sample 30000/60000] [epoch  8/10]\n",
      "train loss: -0.996055  test loss: -0.963120  train accuracy: 0.978900  test accuracy: 0.967100  [sample 40000/60000] [epoch  8/10]\n",
      "train loss: -0.961388  test loss: -0.964039  train accuracy: 0.980600  test accuracy: 0.969000  [sample 50000/60000] [epoch  8/10]\n",
      "train loss: -0.997933  test loss: -0.965529  train accuracy: 0.981733  test accuracy: 0.969100  [sample 60000/60000] [epoch  8/10]\n",
      "train loss: -0.994425  test loss: -0.964844  train accuracy: 0.981417  test accuracy: 0.969200  [sample 10000/60000] [epoch  9/10]\n",
      "train loss: -0.984238  test loss: -0.966191  train accuracy: 0.981817  test accuracy: 0.969600  [sample 20000/60000] [epoch  9/10]\n",
      "train loss: -0.998545  test loss: -0.964662  train accuracy: 0.981867  test accuracy: 0.968700  [sample 30000/60000] [epoch  9/10]\n",
      "train loss: -0.998586  test loss: -0.965080  train accuracy: 0.982350  test accuracy: 0.968900  [sample 40000/60000] [epoch  9/10]\n",
      "train loss: -0.995847  test loss: -0.966215  train accuracy: 0.982533  test accuracy: 0.970300  [sample 50000/60000] [epoch  9/10]\n",
      "train loss: -0.986746  test loss: -0.966561  train accuracy: 0.983117  test accuracy: 0.970200  [sample 60000/60000] [epoch  9/10]\n",
      "train loss: -0.978370  test loss: -0.966528  train accuracy: 0.983067  test accuracy: 0.970300  [sample 10000/60000] [epoch 10/10]\n",
      "train loss: -0.998893  test loss: -0.965804  train accuracy: 0.983283  test accuracy: 0.968700  [sample 20000/60000] [epoch 10/10]\n",
      "train loss: -0.979688  test loss: -0.967541  train accuracy: 0.983600  test accuracy: 0.972000  [sample 30000/60000] [epoch 10/10]\n",
      "train loss: -0.972301  test loss: -0.965842  train accuracy: 0.983283  test accuracy: 0.969400  [sample 40000/60000] [epoch 10/10]\n",
      "train loss: -0.971841  test loss: -0.967633  train accuracy: 0.984383  test accuracy: 0.971500  [sample 50000/60000] [epoch 10/10]\n",
      "train loss: -0.916915  test loss: -0.967196  train accuracy: 0.984250  test accuracy: 0.970300  [sample 60000/60000] [epoch 10/10]\n"
     ]
    }
   ],
   "source": [
    "train_model(model, loss_fn, optimizer, epochs, dataloader_train, dataloader_test)"
   ]
  },
  {
   "cell_type": "markdown",
   "metadata": {},
   "source": [
    "### Evaluating the model\n",
    "\n",
    "To evaluate the model on the test set, we can reuse the previously defined functions."
   ]
  },
  {
   "cell_type": "code",
   "execution_count": 37,
   "metadata": {},
   "outputs": [
    {
     "name": "stdout",
     "output_type": "stream",
     "text": [
      "Test loss: -0.9671957495808602\n",
      "Test accuracy: 0.9703\n"
     ]
    }
   ],
   "source": [
    "model.eval()\n",
    "test_loss, test_acc = calculate_loss_accuracy(model, dataloader_test, loss_fn)\n",
    "print('Test loss:', test_loss)\n",
    "print('Test accuracy:', test_acc)"
   ]
  },
  {
   "cell_type": "markdown",
   "metadata": {},
   "source": [
    "If we need the \"raw\" output values, we may again just use the model as a function:"
   ]
  },
  {
   "cell_type": "code",
   "execution_count": 38,
   "metadata": {},
   "outputs": [
    {
     "name": "stdout",
     "output_type": "stream",
     "text": [
      "Prediction shape: torch.Size([1, 10])\n",
      "Probablity of the first image being a zero: 1.321598608328145e-09\n"
     ]
    }
   ],
   "source": [
    "predictions = model(data_test[0][0])\n",
    "print('Prediction shape:', predictions.shape)\n",
    "print('Probablity of the first image being a zero:', predictions[0, 0].item())"
   ]
  },
  {
   "cell_type": "markdown",
   "metadata": {},
   "source": [
    "To obtain actual class predictions, we will use the `torch.argmax` function to find out which digit has the highest probability:"
   ]
  },
  {
   "cell_type": "code",
   "execution_count": 39,
   "metadata": {},
   "outputs": [
    {
     "name": "stdout",
     "output_type": "stream",
     "text": [
      "Probabilities for the first image: tensor([[1.3216e-09, 1.0896e-13, 1.1279e-09, 1.2137e-07, 6.7669e-13, 1.9098e-09,\n",
      "         7.4296e-17, 1.0000e+00, 5.7948e-09, 5.8476e-08]])\n",
      "Most likely label for the first image: 7\n"
     ]
    }
   ],
   "source": [
    "Y_pred = predictions.detach().argmax(dim = 1)\n",
    "print('Probabilities for the first image:', predictions.detach())\n",
    "print('Most likely label for the first image:', Y_pred[0].item())"
   ]
  },
  {
   "cell_type": "code",
   "execution_count": 40,
   "metadata": {},
   "outputs": [
    {
     "data": {
      "image/png": "[encoded data removed]",
      "text/plain": [
       "<Figure size 1000x700 with 24 Axes>"
      ]
     },
     "metadata": {},
     "output_type": "display_data"
    }
   ],
   "source": [
    "plt.figure(figsize=(10, 7))\n",
    "for i in range(24):\n",
    "    plt.subplot(4, 6, i + 1)\n",
    "    plt.xticks([])\n",
    "    plt.yticks([])\n",
    "    plt.grid(False)\n",
    "    plt.imshow(data_test[i][0].reshape(28, 28), cmap = plt.cm.bone)\n",
    "    plt.title(model(data_test[i][0]).detach().argmax(axis = 1).item())"
   ]
  },
  {
   "cell_type": "markdown",
   "metadata": {},
   "source": [
    "## Task 3 - Creating the model manually\n",
    "\n",
    "Let's again define the basic properties of the model:"
   ]
  },
  {
   "cell_type": "code",
   "execution_count": 41,
   "metadata": {},
   "outputs": [],
   "source": [
    "batch_size = 50\n",
    "hidden_layer_width = 100\n",
    "output_width = 10\n",
    "learning_rate = 0.01\n",
    "epochs = 10\n",
    "loss_fn = nn.CrossEntropyLoss()"
   ]
  },
  {
   "cell_type": "markdown",
   "metadata": {},
   "source": [
    "Let's define the parameters we will need for a neural network with one hidden layer with 100 neurons:"
   ]
  },
  {
   "cell_type": "code",
   "execution_count": 42,
   "metadata": {},
   "outputs": [],
   "source": [
    "W1 = (0.1 * torch.randn((data_train[0][0].shape[1] * data_train[0][0].shape[2], hidden_layer_width))).clone().requires_grad_(True)\n",
    "b1 = torch.zeros((hidden_layer_width,), requires_grad = True)\n",
    "W2 = (0.1 * torch.randn((hidden_layer_width, output_width))).clone().requires_grad_(True)\n",
    "b2 = torch.zeros((output_width,), requires_grad = True)"
   ]
  },
  {
   "cell_type": "markdown",
   "metadata": {},
   "source": [
    "Let's define the forward pass of the neural net in a function:"
   ]
  },
  {
   "cell_type": "code",
   "execution_count": 43,
   "metadata": {},
   "outputs": [],
   "source": [
    "def predict(inputs):\n",
    "    inputs_flat = torch.nn.Flatten()(inputs)\n",
    "    output_1 = torch.tanh(inputs_flat.matmul(W1).add(b1))\n",
    "    output_2 = torch.nn.Softmax(dim = 1)(output_1.matmul(W2).add(b2))\n",
    "    return output_2"
   ]
  },
  {
   "cell_type": "markdown",
   "metadata": {},
   "source": [
    "Let's train the model:"
   ]
  },
  {
   "cell_type": "code",
   "execution_count": 44,
   "metadata": {},
   "outputs": [
    {
     "name": "stdout",
     "output_type": "stream",
     "text": [
      "train loss: 2.296718  test loss: 2.281255  train accuracy: 0.212183  test accuracy: 0.218000  [sample 10000/60000] [epoch  1/10]\n",
      "train loss: 2.235213  test loss: 2.240589  train accuracy: 0.289083  test accuracy: 0.292900  [sample 20000/60000] [epoch  1/10]\n",
      "train loss: 2.133105  test loss: 2.191676  train accuracy: 0.339917  test accuracy: 0.341000  [sample 30000/60000] [epoch  1/10]\n",
      "train loss: 2.149016  test loss: 2.138944  train accuracy: 0.407983  test accuracy: 0.407000  [sample 40000/60000] [epoch  1/10]\n",
      "train loss: 2.047685  test loss: 2.085823  train accuracy: 0.477417  test accuracy: 0.480200  [sample 50000/60000] [epoch  1/10]\n",
      "train loss: 2.132239  test loss: 2.036835  train accuracy: 0.555750  test accuracy: 0.562200  [sample 60000/60000] [epoch  1/10]\n",
      "train loss: 2.002693  test loss: 1.986402  train accuracy: 0.603283  test accuracy: 0.611100  [sample 10000/60000] [epoch  2/10]\n",
      "train loss: 1.884218  test loss: 1.942651  train accuracy: 0.631283  test accuracy: 0.637600  [sample 20000/60000] [epoch  2/10]\n",
      "train loss: 1.911905  test loss: 1.908594  train accuracy: 0.653650  test accuracy: 0.661700  [sample 30000/60000] [epoch  2/10]\n",
      "train loss: 1.857115  test loss: 1.881546  train accuracy: 0.673383  test accuracy: 0.682700  [sample 40000/60000] [epoch  2/10]\n",
      "train loss: 1.796279  test loss: 1.859548  train accuracy: 0.690150  test accuracy: 0.696000  [sample 50000/60000] [epoch  2/10]\n",
      "train loss: 1.820460  test loss: 1.842638  train accuracy: 0.697750  test accuracy: 0.704100  [sample 60000/60000] [epoch  2/10]\n",
      "train loss: 1.842507  test loss: 1.828558  train accuracy: 0.704317  test accuracy: 0.709200  [sample 10000/60000] [epoch  3/10]\n",
      "train loss: 1.820534  test loss: 1.817110  train accuracy: 0.708833  test accuracy: 0.714300  [sample 20000/60000] [epoch  3/10]\n",
      "train loss: 1.810934  test loss: 1.807305  train accuracy: 0.712850  test accuracy: 0.718500  [sample 30000/60000] [epoch  3/10]\n",
      "train loss: 1.777778  test loss: 1.798765  train accuracy: 0.716300  test accuracy: 0.721600  [sample 40000/60000] [epoch  3/10]\n",
      "train loss: 1.817558  test loss: 1.791631  train accuracy: 0.718883  test accuracy: 0.725700  [sample 50000/60000] [epoch  3/10]\n",
      "train loss: 1.830445  test loss: 1.785376  train accuracy: 0.721550  test accuracy: 0.727800  [sample 60000/60000] [epoch  3/10]\n",
      "train loss: 1.854921  test loss: 1.779688  train accuracy: 0.723867  test accuracy: 0.730000  [sample 10000/60000] [epoch  4/10]\n",
      "train loss: 1.712324  test loss: 1.774630  train accuracy: 0.726050  test accuracy: 0.732800  [sample 20000/60000] [epoch  4/10]\n",
      "train loss: 1.826169  test loss: 1.770267  train accuracy: 0.727700  test accuracy: 0.734700  [sample 30000/60000] [epoch  4/10]\n",
      "train loss: 1.760154  test loss: 1.766265  train accuracy: 0.729483  test accuracy: 0.736200  [sample 40000/60000] [epoch  4/10]\n",
      "train loss: 1.787283  test loss: 1.762570  train accuracy: 0.730833  test accuracy: 0.737800  [sample 50000/60000] [epoch  4/10]\n",
      "train loss: 1.805315  test loss: 1.759014  train accuracy: 0.732167  test accuracy: 0.738300  [sample 60000/60000] [epoch  4/10]\n",
      "train loss: 1.775497  test loss: 1.755804  train accuracy: 0.733633  test accuracy: 0.740000  [sample 10000/60000] [epoch  5/10]\n",
      "train loss: 1.774476  test loss: 1.752591  train accuracy: 0.735050  test accuracy: 0.742000  [sample 20000/60000] [epoch  5/10]\n",
      "train loss: 1.804462  test loss: 1.749154  train accuracy: 0.736450  test accuracy: 0.743200  [sample 30000/60000] [epoch  5/10]\n",
      "train loss: 1.846274  test loss: 1.745635  train accuracy: 0.738583  test accuracy: 0.745200  [sample 40000/60000] [epoch  5/10]\n",
      "train loss: 1.768980  test loss: 1.740857  train accuracy: 0.745933  test accuracy: 0.753100  [sample 50000/60000] [epoch  5/10]\n",
      "train loss: 1.701784  test loss: 1.733454  train accuracy: 0.759033  test accuracy: 0.764800  [sample 60000/60000] [epoch  5/10]\n",
      "train loss: 1.791699  test loss: 1.721477  train accuracy: 0.780033  test accuracy: 0.786800  [sample 10000/60000] [epoch  6/10]\n",
      "train loss: 1.682472  test loss: 1.711732  train accuracy: 0.794583  test accuracy: 0.800800  [sample 20000/60000] [epoch  6/10]\n",
      "train loss: 1.693087  test loss: 1.704976  train accuracy: 0.801150  test accuracy: 0.809200  [sample 30000/60000] [epoch  6/10]\n",
      "train loss: 1.732892  test loss: 1.699952  train accuracy: 0.805167  test accuracy: 0.813400  [sample 40000/60000] [epoch  6/10]\n",
      "train loss: 1.684066  test loss: 1.695412  train accuracy: 0.807583  test accuracy: 0.816100  [sample 50000/60000] [epoch  6/10]\n",
      "train loss: 1.657826  test loss: 1.691365  train accuracy: 0.809950  test accuracy: 0.819300  [sample 60000/60000] [epoch  6/10]\n",
      "train loss: 1.677475  test loss: 1.687462  train accuracy: 0.812167  test accuracy: 0.821700  [sample 10000/60000] [epoch  7/10]\n",
      "train loss: 1.660038  test loss: 1.684098  train accuracy: 0.814133  test accuracy: 0.822800  [sample 20000/60000] [epoch  7/10]\n",
      "train loss: 1.675954  test loss: 1.680863  train accuracy: 0.816367  test accuracy: 0.824800  [sample 30000/60000] [epoch  7/10]\n",
      "train loss: 1.650251  test loss: 1.677770  train accuracy: 0.818900  test accuracy: 0.827500  [sample 40000/60000] [epoch  7/10]\n",
      "train loss: 1.638899  test loss: 1.674902  train accuracy: 0.820917  test accuracy: 0.829400  [sample 50000/60000] [epoch  7/10]\n",
      "train loss: 1.651246  test loss: 1.671887  train accuracy: 0.823483  test accuracy: 0.832300  [sample 60000/60000] [epoch  7/10]\n",
      "train loss: 1.633412  test loss: 1.669132  train accuracy: 0.826367  test accuracy: 0.834400  [sample 10000/60000] [epoch  8/10]\n",
      "train loss: 1.616749  test loss: 1.666226  train accuracy: 0.828717  test accuracy: 0.835900  [sample 20000/60000] [epoch  8/10]\n",
      "train loss: 1.662524  test loss: 1.663574  train accuracy: 0.831133  test accuracy: 0.837400  [sample 30000/60000] [epoch  8/10]\n",
      "train loss: 1.757873  test loss: 1.660922  train accuracy: 0.833083  test accuracy: 0.839600  [sample 40000/60000] [epoch  8/10]\n",
      "train loss: 1.721488  test loss: 1.658270  train accuracy: 0.835883  test accuracy: 0.842400  [sample 50000/60000] [epoch  8/10]\n",
      "train loss: 1.661590  test loss: 1.655721  train accuracy: 0.838700  test accuracy: 0.843900  [sample 60000/60000] [epoch  8/10]\n",
      "train loss: 1.682901  test loss: 1.653103  train accuracy: 0.840333  test accuracy: 0.846600  [sample 10000/60000] [epoch  9/10]\n",
      "train loss: 1.586237  test loss: 1.650445  train accuracy: 0.842483  test accuracy: 0.848300  [sample 20000/60000] [epoch  9/10]\n",
      "train loss: 1.655205  test loss: 1.648098  train accuracy: 0.844117  test accuracy: 0.848800  [sample 30000/60000] [epoch  9/10]\n",
      "train loss: 1.683561  test loss: 1.645708  train accuracy: 0.845983  test accuracy: 0.851900  [sample 40000/60000] [epoch  9/10]\n",
      "train loss: 1.668509  test loss: 1.643480  train accuracy: 0.848333  test accuracy: 0.853100  [sample 50000/60000] [epoch  9/10]\n",
      "train loss: 1.677410  test loss: 1.641158  train accuracy: 0.850500  test accuracy: 0.855400  [sample 60000/60000] [epoch  9/10]\n",
      "train loss: 1.676691  test loss: 1.638900  train accuracy: 0.851667  test accuracy: 0.856700  [sample 10000/60000] [epoch 10/10]\n",
      "train loss: 1.618951  test loss: 1.636327  train accuracy: 0.854267  test accuracy: 0.859200  [sample 20000/60000] [epoch 10/10]\n",
      "train loss: 1.706837  test loss: 1.633838  train accuracy: 0.855633  test accuracy: 0.861900  [sample 30000/60000] [epoch 10/10]\n",
      "train loss: 1.625005  test loss: 1.630942  train accuracy: 0.859317  test accuracy: 0.865200  [sample 40000/60000] [epoch 10/10]\n",
      "train loss: 1.679452  test loss: 1.627561  train accuracy: 0.864067  test accuracy: 0.870000  [sample 50000/60000] [epoch 10/10]\n",
      "train loss: 1.704710  test loss: 1.624331  train accuracy: 0.867017  test accuracy: 0.875100  [sample 60000/60000] [epoch 10/10]\n"
     ]
    }
   ],
   "source": [
    "log_period = 10000\n",
    "\n",
    "for epoch in range(epochs):\n",
    "    processed_since_log = 0\n",
    "    for batch, (X, y) in enumerate(dataloader_train):\n",
    "        pred = predict(X)\n",
    "        loss = loss_fn(pred, y)\n",
    "        loss.backward()\n",
    "\n",
    "        for variable in [W1, b1, W2, b2]:\n",
    "            with torch.no_grad():\n",
    "                variable -= variable.grad * learning_rate\n",
    "            variable.grad = None\n",
    "\n",
    "        processed_since_log += dataloader_train.batch_size\n",
    "\n",
    "        if processed_since_log >= log_period:\n",
    "            current = min((batch + 1) * dataloader_train.batch_size, len(data_train))\n",
    "            loss = loss.item()\n",
    "            train_acc = calculate_accuracy(predict, dataloader_train)\n",
    "            test_loss, test_acc = calculate_loss_accuracy(predict, dataloader_test, loss_fn)\n",
    "            print(f\"train loss: {loss:>7f}  test loss: {test_loss:>7f}  train accuracy: {train_acc:>3f}  test accuracy: {test_acc:>3f}  [sample {current:>5d}/{len(data_train):>5d}] [epoch {epoch+1:>2d}/{epochs:>2d}]\")\n",
    "            processed_since_log -= log_period"
   ]
  },
  {
   "cell_type": "markdown",
   "metadata": {},
   "source": [
    "## Training (hyper-)parameters\n",
    "\n",
    "In the previous examples we just set the various hyper-parameters of the network semi-randomly. Let's now take a look at them and their possible values.\n",
    "\n",
    "### Network architecture\n",
    "\n",
    "- Number of layers\n",
    "- Layer widths\n",
    "- activation functions\n",
    "    - linear\n",
    "    - tanh\n",
    "    - sigmoid\n",
    "    - hard sigmoid\n",
    "    - relu\n",
    "    - selu\n",
    "    - softmax"
   ]
  },
  {
   "cell_type": "code",
   "execution_count": 45,
   "metadata": {},
   "outputs": [
    {
     "data": {
      "image/png": "[encoded data removed]",
      "text/plain": [
       "<Figure size 2000x2000 with 8 Axes>"
      ]
     },
     "metadata": {},
     "output_type": "display_data"
    }
   ],
   "source": [
    "plt.figure(figsize=(20, 20))\n",
    "i = 1\n",
    "for activationFunction in [nn.Tanh(), nn.Hardtanh(), nn.Sigmoid(), nn.Hardsigmoid(), nn.ReLU(), nn.LeakyReLU(), nn.SELU(), nn.ELU()]:\n",
    "    plt.subplot(4, 4, i)\n",
    "    i += 1\n",
    "    plt.grid(True)\n",
    "    xs = torch.linspace(-5, 5, 100);\n",
    "    ys = activationFunction(xs)\n",
    "    plt.plot(xs, ys)\n",
    "    plt.title(type(activationFunction).__name__)"
   ]
  },
  {
   "cell_type": "markdown",
   "metadata": {},
   "source": [
    "## Loss functions\n",
    "\n",
    "- Mean square error\n",
    "    $$ \\operatorname{MSE}=\\frac{1}{n}\\sum_{i=1}^n(Y_i-\\hat{Y_i})^2. $$\n",
    "- Hinge\n",
    "    $$ \\operatorname{Hinge} = \\sum_{i=1}^K \\max(0, 1- Y_i \\cdot \\hat{Y_i}) $$\n",
    "- Cross-entropy\n",
    "    $$ \\operatorname{crossentropy} = - \\sum_{i=1}^K Y_i \\cdot \\log(\\hat{Y_i}) $$\n",
    "\n",
    "## Optimization algorithms\n",
    "\n",
    "- SGD\n",
    "- RMSProp\n",
    "- Adagrad\n",
    "- Adam\n",
    "- Adadelta\n",
    "- Adamax\n",
    "- Nadam\n",
    "- AdamW\n",
    "\n",
    "### Learning schedule\n",
    "\n",
    "We may optionally add a so-called weight decay to the optimization algorithm. This means that the learning rate will become smaller as we train. For example:"
   ]
  },
  {
   "cell_type": "code",
   "execution_count": 46,
   "metadata": {},
   "outputs": [],
   "source": [
    "initial_learning_rate = 0.01\n",
    "batch_count = 64\n",
    "optimizer = torch.optim.SGD(model.parameters(), weight_decay=0.001)"
   ]
  },
  {
   "cell_type": "markdown",
   "metadata": {},
   "source": [
    "More advanced algorithms such as AdamW have weight decay built-in.\n",
    "\n",
    "## Using the training dataset\n",
    "\n",
    "We can set 2 ways in which the training dataset is used:\n",
    "- Epochs: How many times we loop over the whole dataset\n",
    "- Batching: Using the dataset not sample-by-sample but in batches\n",
    "\n",
    "# Task 4\n",
    "\n",
    "Try to modify the previously defined model on MNIST to obtain the best possible results by tuning its hyper-parameters."
   ]
  },
  {
   "cell_type": "markdown",
   "metadata": {},
   "source": [
    "## Solution"
   ]
  },
  {
   "cell_type": "code",
   "execution_count": 47,
   "metadata": {},
   "outputs": [
    {
     "data": {
      "text/plain": [
       "Sequential(\n",
       "  (0): Flatten(start_dim=1, end_dim=-1)\n",
       "  (1): Linear(in_features=784, out_features=256, bias=True)\n",
       "  (2): Tanh()\n",
       "  (3): Linear(in_features=256, out_features=128, bias=True)\n",
       "  (4): Tanh()\n",
       "  (5): Linear(in_features=128, out_features=10, bias=True)\n",
       ")"
      ]
     },
     "execution_count": 47,
     "metadata": {},
     "output_type": "execute_result"
    }
   ],
   "source": [
    "model = nn.Sequential()\n",
    "model.append(nn.Flatten())\n",
    "model.append(nn.Linear(data_train.data.shape[1] * data_train.data.shape[2], 256))\n",
    "model.append(nn.Tanh())\n",
    "model.append(nn.Linear(256, 128))\n",
    "model.append(nn.Tanh())\n",
    "model.append(nn.Linear(128, 10))"
   ]
  },
  {
   "cell_type": "code",
   "execution_count": 48,
   "metadata": {},
   "outputs": [],
   "source": [
    "loss_fn = nn.CrossEntropyLoss()\n",
    "optimizer = torch.optim.Adam(model.parameters())\n",
    "epochs = 10"
   ]
  },
  {
   "cell_type": "code",
   "execution_count": 49,
   "metadata": {},
   "outputs": [
    {
     "name": "stdout",
     "output_type": "stream",
     "text": [
      "train loss: 0.242106  test loss: 0.288315  train accuracy: 0.910733  test accuracy: 0.914600  [sample 10000/60000] [epoch  1/10]\n",
      "train loss: 0.433957  test loss: 0.235900  train accuracy: 0.930700  test accuracy: 0.930000  [sample 20000/60000] [epoch  1/10]\n",
      "train loss: 0.243737  test loss: 0.218875  train accuracy: 0.937583  test accuracy: 0.936200  [sample 30000/60000] [epoch  1/10]\n",
      "train loss: 0.196528  test loss: 0.200857  train accuracy: 0.939083  test accuracy: 0.938900  [sample 40000/60000] [epoch  1/10]\n",
      "train loss: 0.113291  test loss: 0.175792  train accuracy: 0.949967  test accuracy: 0.948400  [sample 50000/60000] [epoch  1/10]\n",
      "train loss: 0.275778  test loss: 0.152720  train accuracy: 0.958117  test accuracy: 0.953900  [sample 60000/60000] [epoch  1/10]\n",
      "train loss: 0.231096  test loss: 0.157614  train accuracy: 0.955917  test accuracy: 0.953000  [sample 10000/60000] [epoch  2/10]\n",
      "train loss: 0.217140  test loss: 0.139104  train accuracy: 0.962317  test accuracy: 0.958000  [sample 20000/60000] [epoch  2/10]\n",
      "train loss: 0.125904  test loss: 0.132288  train accuracy: 0.965667  test accuracy: 0.959200  [sample 30000/60000] [epoch  2/10]\n",
      "train loss: 0.331618  test loss: 0.126847  train accuracy: 0.968183  test accuracy: 0.960900  [sample 40000/60000] [epoch  2/10]\n",
      "train loss: 0.082282  test loss: 0.107668  train accuracy: 0.973833  test accuracy: 0.965700  [sample 50000/60000] [epoch  2/10]\n",
      "train loss: 0.028868  test loss: 0.114370  train accuracy: 0.970200  test accuracy: 0.963000  [sample 60000/60000] [epoch  2/10]\n",
      "train loss: 0.034837  test loss: 0.099670  train accuracy: 0.977650  test accuracy: 0.970200  [sample 10000/60000] [epoch  3/10]\n",
      "train loss: 0.029587  test loss: 0.100728  train accuracy: 0.976533  test accuracy: 0.969100  [sample 20000/60000] [epoch  3/10]\n",
      "train loss: 0.070860  test loss: 0.098429  train accuracy: 0.978483  test accuracy: 0.971000  [sample 30000/60000] [epoch  3/10]\n",
      "train loss: 0.035885  test loss: 0.098365  train accuracy: 0.978850  test accuracy: 0.968900  [sample 40000/60000] [epoch  3/10]\n",
      "train loss: 0.019817  test loss: 0.089632  train accuracy: 0.981633  test accuracy: 0.972700  [sample 50000/60000] [epoch  3/10]\n",
      "train loss: 0.006865  test loss: 0.091970  train accuracy: 0.980933  test accuracy: 0.970100  [sample 60000/60000] [epoch  3/10]\n",
      "train loss: 0.059525  test loss: 0.089925  train accuracy: 0.982567  test accuracy: 0.972700  [sample 10000/60000] [epoch  4/10]\n",
      "train loss: 0.049477  test loss: 0.091656  train accuracy: 0.982950  test accuracy: 0.970500  [sample 20000/60000] [epoch  4/10]\n",
      "train loss: 0.031085  test loss: 0.079345  train accuracy: 0.987017  test accuracy: 0.974900  [sample 30000/60000] [epoch  4/10]\n",
      "train loss: 0.005525  test loss: 0.083468  train accuracy: 0.985250  test accuracy: 0.973300  [sample 40000/60000] [epoch  4/10]\n",
      "train loss: 0.105612  test loss: 0.088583  train accuracy: 0.986200  test accuracy: 0.972300  [sample 50000/60000] [epoch  4/10]\n",
      "train loss: 0.014671  test loss: 0.086942  train accuracy: 0.986983  test accuracy: 0.973800  [sample 60000/60000] [epoch  4/10]\n",
      "train loss: 0.008204  test loss: 0.072533  train accuracy: 0.990217  test accuracy: 0.977100  [sample 10000/60000] [epoch  5/10]\n",
      "train loss: 0.136517  test loss: 0.076970  train accuracy: 0.989067  test accuracy: 0.975200  [sample 20000/60000] [epoch  5/10]\n",
      "train loss: 0.007765  test loss: 0.082994  train accuracy: 0.989783  test accuracy: 0.974800  [sample 30000/60000] [epoch  5/10]\n",
      "train loss: 0.059781  test loss: 0.086102  train accuracy: 0.987767  test accuracy: 0.974000  [sample 40000/60000] [epoch  5/10]\n",
      "train loss: 0.018445  test loss: 0.083210  train accuracy: 0.989133  test accuracy: 0.973400  [sample 50000/60000] [epoch  5/10]\n",
      "train loss: 0.014533  test loss: 0.066828  train accuracy: 0.992583  test accuracy: 0.979100  [sample 60000/60000] [epoch  5/10]\n",
      "train loss: 0.004009  test loss: 0.065409  train accuracy: 0.993417  test accuracy: 0.978400  [sample 10000/60000] [epoch  6/10]\n",
      "train loss: 0.006749  test loss: 0.069601  train accuracy: 0.992567  test accuracy: 0.978100  [sample 20000/60000] [epoch  6/10]\n",
      "train loss: 0.016706  test loss: 0.070230  train accuracy: 0.993650  test accuracy: 0.978700  [sample 30000/60000] [epoch  6/10]\n",
      "train loss: 0.156764  test loss: 0.068251  train accuracy: 0.993583  test accuracy: 0.977900  [sample 40000/60000] [epoch  6/10]\n",
      "train loss: 0.001384  test loss: 0.070784  train accuracy: 0.993233  test accuracy: 0.977800  [sample 50000/60000] [epoch  6/10]\n",
      "train loss: 0.017609  test loss: 0.083095  train accuracy: 0.990850  test accuracy: 0.974100  [sample 60000/60000] [epoch  6/10]\n",
      "train loss: 0.018191  test loss: 0.072381  train accuracy: 0.993550  test accuracy: 0.977300  [sample 10000/60000] [epoch  7/10]\n",
      "train loss: 0.066941  test loss: 0.074140  train accuracy: 0.992783  test accuracy: 0.977100  [sample 20000/60000] [epoch  7/10]\n",
      "train loss: 0.014150  test loss: 0.086506  train accuracy: 0.992150  test accuracy: 0.975000  [sample 30000/60000] [epoch  7/10]\n",
      "train loss: 0.001392  test loss: 0.070228  train accuracy: 0.994083  test accuracy: 0.978500  [sample 40000/60000] [epoch  7/10]\n",
      "train loss: 0.026056  test loss: 0.074122  train accuracy: 0.994500  test accuracy: 0.976900  [sample 50000/60000] [epoch  7/10]\n",
      "train loss: 0.005724  test loss: 0.072038  train accuracy: 0.994650  test accuracy: 0.979300  [sample 60000/60000] [epoch  7/10]\n",
      "train loss: 0.009192  test loss: 0.069742  train accuracy: 0.996350  test accuracy: 0.978700  [sample 10000/60000] [epoch  8/10]\n",
      "train loss: 0.066010  test loss: 0.084485  train accuracy: 0.992450  test accuracy: 0.974200  [sample 20000/60000] [epoch  8/10]\n",
      "train loss: 0.086464  test loss: 0.075701  train accuracy: 0.996117  test accuracy: 0.978000  [sample 30000/60000] [epoch  8/10]\n",
      "train loss: 0.056634  test loss: 0.070191  train accuracy: 0.995317  test accuracy: 0.978800  [sample 40000/60000] [epoch  8/10]\n",
      "train loss: 0.004379  test loss: 0.083310  train accuracy: 0.994083  test accuracy: 0.976700  [sample 50000/60000] [epoch  8/10]\n",
      "train loss: 0.069258  test loss: 0.077481  train accuracy: 0.996100  test accuracy: 0.978700  [sample 60000/60000] [epoch  8/10]\n",
      "train loss: 0.008323  test loss: 0.070026  train accuracy: 0.996233  test accuracy: 0.979300  [sample 10000/60000] [epoch  9/10]\n",
      "train loss: 0.051625  test loss: 0.086244  train accuracy: 0.993600  test accuracy: 0.975100  [sample 20000/60000] [epoch  9/10]\n",
      "train loss: 0.005635  test loss: 0.073325  train accuracy: 0.996917  test accuracy: 0.978200  [sample 30000/60000] [epoch  9/10]\n",
      "train loss: 0.004709  test loss: 0.077314  train accuracy: 0.996950  test accuracy: 0.978700  [sample 40000/60000] [epoch  9/10]\n",
      "train loss: 0.001350  test loss: 0.073149  train accuracy: 0.998033  test accuracy: 0.979200  [sample 50000/60000] [epoch  9/10]\n",
      "train loss: 0.009086  test loss: 0.079903  train accuracy: 0.995217  test accuracy: 0.977100  [sample 60000/60000] [epoch  9/10]\n",
      "train loss: 0.010898  test loss: 0.086404  train accuracy: 0.994883  test accuracy: 0.974900  [sample 10000/60000] [epoch 10/10]\n",
      "train loss: 0.007411  test loss: 0.074912  train accuracy: 0.997433  test accuracy: 0.979300  [sample 20000/60000] [epoch 10/10]\n",
      "train loss: 0.007560  test loss: 0.077453  train accuracy: 0.997300  test accuracy: 0.977800  [sample 30000/60000] [epoch 10/10]\n",
      "train loss: 0.003517  test loss: 0.078122  train accuracy: 0.995883  test accuracy: 0.978800  [sample 40000/60000] [epoch 10/10]\n",
      "train loss: 0.001369  test loss: 0.091328  train accuracy: 0.995400  test accuracy: 0.975100  [sample 50000/60000] [epoch 10/10]\n",
      "train loss: 0.019159  test loss: 0.083107  train accuracy: 0.996967  test accuracy: 0.976600  [sample 60000/60000] [epoch 10/10]\n"
     ]
    }
   ],
   "source": [
    "train_model(model, loss_fn, optimizer, epochs, dataloader_train, dataloader_test)"
   ]
  },
  {
   "cell_type": "code",
   "execution_count": 50,
   "metadata": {},
   "outputs": [
    {
     "name": "stdout",
     "output_type": "stream",
     "text": [
      "Test loss: 0.08310719113709637\n",
      "Test accuracy: 0.9766\n"
     ]
    }
   ],
   "source": [
    "model.eval()\n",
    "test_loss, test_acc = calculate_loss_accuracy(model, dataloader_test, loss_fn)\n",
    "print('Test loss:', test_loss)\n",
    "print('Test accuracy:', test_acc)"
   ]
  }
 ],
 "metadata": {
  "kernelspec": {
   "display_name": "tzn",
   "language": "python",
   "name": "tzn"
  },
  "language_info": {
   "codemirror_mode": {
    "name": "ipython",
    "version": 3
   },
   "file_extension": ".py",
   "mimetype": "text/x-python",
   "name": "python",
   "nbconvert_exporter": "python",
   "pygments_lexer": "ipython3",
   "version": "3.11.12"
  }
 },
 "nbformat": 4,
 "nbformat_minor": 4
}
