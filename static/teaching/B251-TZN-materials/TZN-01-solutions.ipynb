{
 "cells": [
  {
   "cell_type": "markdown",
   "metadata": {},
   "source": [
    "# Cvičení 1 - Úvod do neuronových sítí\n",
    "\n",
    "V tomto cvičení si ukážeme prácis s jazykem **Python** a jeho knihovnami, především [PyTorch](https://pytorch.org/).\n",
    "\n",
    "Obdobným způsobem se pracuje i s dalšími používanými knihovnami jako např. [TensorFlow](https://www.tensorflow.org/), [JAX](https://docs.jax.dev/en/latest/), [Flux.jl](https://fluxml.ai/) nebo [Deep Learning Toolbox](https://www.mathworks.com/products/deep-learning.html).\n",
    "\n",
    "Pro detailnější tutoriál k PyTorch jsou dostupné i [oficiální tutoriály](https://pytorch.org/tutorials/)."
   ]
  },
  {
   "cell_type": "markdown",
   "metadata": {},
   "source": [
    "## Instalace v prostředí uv a Jupyter\n",
    "\n",
    "Nainstalujeme Jupyter dle pokynů z [webu](https://jupyter.org/install). Obdobně s balíčkovacím systémem [uv](https://docs.astral.sh/uv/).\n",
    "\n",
    "Vytvoříme uv balíček a propojíme ho s Jupyterem\n",
    "```bash\n",
    "$ uv init\n",
    "$ uv add --dev ipykernel\n",
    "$ uv run ipython kernel install --user --env VIRTUAL_ENV $(pwd)/.venv --name=tzn\n",
    "```\n",
    "\n",
    "Pro dostupnost tohoto kernelu musíme restartovat Jupyter.\n",
    "\n",
    "Nainstalujeme potřebné balíčky\n",
    "\n",
    "```bash\n",
    "$ uv add matplotlib numpy scikit-learn torch torch-geometric torchvision\n",
    "$ uv add torch-cluster -f https://data.pyg.org/whl/torch-2.8.0+cpu.html\n",
    "```"
   ]
  },
  {
   "cell_type": "markdown",
   "metadata": {},
   "source": [
    "## Úkol 1\n",
    "\n",
    "Zprovozněte své prostředí tak, aby se následující buňka spustila bez chyb a zobrazila něco jako `Torch version: 2.8.0`."
   ]
  },
  {
   "cell_type": "code",
   "execution_count": 1,
   "metadata": {},
   "outputs": [
    {
     "name": "stdout",
     "output_type": "stream",
     "text": [
      "Torch version: 2.8.0+cu128\n"
     ]
    }
   ],
   "source": [
    "import numpy as np\n",
    "from matplotlib import pyplot as plt\n",
    "\n",
    "import torch\n",
    "from torch import nn\n",
    "from torch.utils.data import DataLoader\n",
    "from torchvision import datasets, transforms\n",
    "\n",
    "print(\"Torch version:\", torch.__version__)"
   ]
  },
  {
   "cell_type": "markdown",
   "metadata": {},
   "source": [
    "## Tenzory a práce s nimi v PyTorch\n",
    "\n",
    "Nejprve se podívejme na to, co se vlastně při standardním využití děje na pozadí - manipulace s tenzory a automatické počítání gradientu.\n",
    "\n",
    "Tenzor je vlastně název pro $n$ rozměrné pole - tj. jako `ndarray` v numpy."
   ]
  },
  {
   "cell_type": "markdown",
   "metadata": {},
   "source": [
    "Převod numpy nebo python matice na konstantní tenzor:"
   ]
  },
  {
   "cell_type": "code",
   "execution_count": 2,
   "metadata": {},
   "outputs": [
    {
     "name": "stdout",
     "output_type": "stream",
     "text": [
      "tensor([[1, 2],\n",
      "        [3, 4]])\n"
     ]
    }
   ],
   "source": [
    "a = torch.tensor([[1, 2], [3,4]])\n",
    "print(a)"
   ]
  },
  {
   "cell_type": "markdown",
   "metadata": {},
   "source": [
    "Převod zpět do numpy:"
   ]
  },
  {
   "cell_type": "code",
   "execution_count": 3,
   "metadata": {},
   "outputs": [
    {
     "name": "stdout",
     "output_type": "stream",
     "text": [
      "[[1 2]\n",
      " [3 4]]\n"
     ]
    }
   ],
   "source": [
    "print(a.numpy())"
   ]
  },
  {
   "cell_type": "markdown",
   "metadata": {},
   "source": [
    "Tensor vždy obsahuje základní atributy `shape` a `dtype`:"
   ]
  },
  {
   "cell_type": "code",
   "execution_count": 4,
   "metadata": {},
   "outputs": [
    {
     "name": "stdout",
     "output_type": "stream",
     "text": [
      "Rozměr: torch.Size([2, 2])\n",
      "Datový typ: torch.int64\n"
     ]
    }
   ],
   "source": [
    "print('Rozměr:', a.shape)\n",
    "print('Datový typ:', a.dtype)"
   ]
  },
  {
   "cell_type": "markdown",
   "metadata": {},
   "source": [
    "Další způsoby, jak vytvořit Tensor:"
   ]
  },
  {
   "cell_type": "code",
   "execution_count": 5,
   "metadata": {},
   "outputs": [
    {
     "name": "stdout",
     "output_type": "stream",
     "text": [
      "tensor([[1., 1., 1.]])\n",
      "tensor([[0., 0., 0.]])\n",
      "tensor([[ 0.7136, -1.5067, -1.4281,  0.3497]])\n",
      "tensor([[0.4411, 0.9482, 0.9969, 0.4341]])\n"
     ]
    }
   ],
   "source": [
    "print(torch.ones((1, 3)))\n",
    "print(torch.zeros((1, 3)))\n",
    "print(torch.randn((1, 4))) # Normální rozdělení\n",
    "print(torch.rand((1, 4))) # Uniformní rozdělení na [0, 1)"
   ]
  },
  {
   "cell_type": "markdown",
   "metadata": {},
   "source": [
    "S tenzory můžeme dělat běžné operace - maticové atd. Vyrobíme si nějaké tenzory (musí být stejného datového typu):"
   ]
  },
  {
   "cell_type": "code",
   "execution_count": 6,
   "metadata": {},
   "outputs": [
    {
     "name": "stdout",
     "output_type": "stream",
     "text": [
      "tensor([[1., 2.],\n",
      "        [3., 4.]])\n",
      "tensor([[1.],\n",
      "        [1.]])\n",
      "tensor([[0.5909],\n",
      "        [0.0166]])\n"
     ]
    }
   ],
   "source": [
    "a = torch.tensor([[1, 2], [3,4]], dtype = torch.float32)\n",
    "b = torch.ones((2, 1))\n",
    "c = torch.randn((2, 1))\n",
    "print(a)\n",
    "print(b)\n",
    "print(c)"
   ]
  },
  {
   "cell_type": "markdown",
   "metadata": {},
   "source": [
    "Maticový součin:"
   ]
  },
  {
   "cell_type": "code",
   "execution_count": 7,
   "metadata": {},
   "outputs": [
    {
     "name": "stdout",
     "output_type": "stream",
     "text": [
      "tensor([[3.],\n",
      "        [7.]])\n"
     ]
    }
   ],
   "source": [
    "print(a.matmul(b))"
   ]
  },
  {
   "cell_type": "markdown",
   "metadata": {},
   "source": [
    "Součet po složkách:"
   ]
  },
  {
   "cell_type": "code",
   "execution_count": 8,
   "metadata": {},
   "outputs": [
    {
     "name": "stdout",
     "output_type": "stream",
     "text": [
      "tensor([[1.5909],\n",
      "        [1.0166]])\n"
     ]
    }
   ],
   "source": [
    "print(b.add(c))"
   ]
  },
  {
   "cell_type": "markdown",
   "metadata": {},
   "source": [
    "Kvadrát po složkách:"
   ]
  },
  {
   "cell_type": "code",
   "execution_count": 9,
   "metadata": {},
   "outputs": [
    {
     "name": "stdout",
     "output_type": "stream",
     "text": [
      "tensor([[ 1.,  4.],\n",
      "        [ 9., 16.]])\n"
     ]
    }
   ],
   "source": [
    "print(a.square())"
   ]
  },
  {
   "cell_type": "markdown",
   "metadata": {},
   "source": [
    "Eukleidovská norma vektoru:"
   ]
  },
  {
   "cell_type": "code",
   "execution_count": 10,
   "metadata": {},
   "outputs": [
    {
     "name": "stdout",
     "output_type": "stream",
     "text": [
      "tensor(1.4142)\n"
     ]
    }
   ],
   "source": [
    "print(b.norm())"
   ]
  },
  {
   "cell_type": "markdown",
   "metadata": {},
   "source": [
    "Hodnost matice:"
   ]
  },
  {
   "cell_type": "code",
   "execution_count": 11,
   "metadata": {},
   "outputs": [
    {
     "name": "stdout",
     "output_type": "stream",
     "text": [
      "tensor(2)\n"
     ]
    }
   ],
   "source": [
    "print(torch.linalg.matrix_rank(a))"
   ]
  },
  {
   "cell_type": "markdown",
   "metadata": {},
   "source": [
    "Aplikace funkce sinus po složkách:"
   ]
  },
  {
   "cell_type": "code",
   "execution_count": 12,
   "metadata": {},
   "outputs": [
    {
     "name": "stdout",
     "output_type": "stream",
     "text": [
      "tensor([[ 0.8415,  0.9093],\n",
      "        [ 0.1411, -0.7568]])\n"
     ]
    }
   ],
   "source": [
    "print(torch.sin(a))"
   ]
  },
  {
   "cell_type": "markdown",
   "metadata": {},
   "source": [
    "Boolovský idikátor toho, zda je daná složka matice větší než 1:"
   ]
  },
  {
   "cell_type": "code",
   "execution_count": 13,
   "metadata": {},
   "outputs": [
    {
     "name": "stdout",
     "output_type": "stream",
     "text": [
      "tensor([[False,  True],\n",
      "        [ True,  True]])\n"
     ]
    }
   ],
   "source": [
    "print(a.greater(1))"
   ]
  },
  {
   "cell_type": "markdown",
   "metadata": {},
   "source": [
    "## Úkol 2 - základní práce s daty\n",
    "\n",
    "Načteme dataset [MNIST](https://en.wikipedia.org/wiki/MNIST_database) a zkusíme spočítat průměrné hodnoty jeho jednotlivých feature. První spuštění následující buňky může trvat déle, než se dataset stáhne."
   ]
  },
  {
   "cell_type": "code",
   "execution_count": 14,
   "metadata": {},
   "outputs": [],
   "source": [
    "data = datasets.MNIST(\n",
    "    root = \"data\",\n",
    "    download = True,\n",
    "    transform = transforms.Compose([transforms.ToTensor(), transforms.Normalize(0, 1)])\n",
    ")"
   ]
  },
  {
   "cell_type": "markdown",
   "metadata": {},
   "source": [
    "Načetli jsme obrázky z datasetu MNIST. Nyní zkuste spočítat průměrnou hodnotu každé feature napříč všemi obrázky. Využijte třídu [`DataLoader`](https://pytorch.org/docs/stable/data.html#torch.utils.data.DataLoader)."
   ]
  },
  {
   "cell_type": "markdown",
   "metadata": {},
   "source": [
    "## Řešení"
   ]
  },
  {
   "cell_type": "markdown",
   "metadata": {},
   "source": [
    "Naše data mají následující tvar a datový typ:"
   ]
  },
  {
   "cell_type": "code",
   "execution_count": 15,
   "metadata": {},
   "outputs": [
    {
     "data": {
      "text/plain": [
       "Dataset MNIST\n",
       "    Number of datapoints: 60000\n",
       "    Root location: data\n",
       "    Split: Train\n",
       "    StandardTransform\n",
       "Transform: Compose(\n",
       "               ToTensor()\n",
       "               Normalize(mean=0, std=1)\n",
       "           )"
      ]
     },
     "metadata": {},
     "output_type": "display_data"
    }
   ],
   "source": [
    "display(data)"
   ]
  },
  {
   "cell_type": "code",
   "execution_count": 16,
   "metadata": {},
   "outputs": [
    {
     "name": "stdout",
     "output_type": "stream",
     "text": [
      "torch.Size([1, 28, 28])\n",
      "torch.float32\n",
      "5\n"
     ]
    }
   ],
   "source": [
    "print(data[0][0].shape)\n",
    "print(data[0][0].dtype)\n",
    "print(data[0][1]) # Label"
   ]
  },
  {
   "cell_type": "markdown",
   "metadata": {},
   "source": [
    "Pro snadnější práci s datasetem si ho načteme do pomocné třídy `DataLoader`:"
   ]
  },
  {
   "cell_type": "code",
   "execution_count": 17,
   "metadata": {},
   "outputs": [],
   "source": [
    "dataloader = DataLoader(data, batch_size = 1)"
   ]
  },
  {
   "cell_type": "markdown",
   "metadata": {},
   "source": [
    "Spočteme průměr všech obrázků:"
   ]
  },
  {
   "cell_type": "code",
   "execution_count": 18,
   "metadata": {},
   "outputs": [],
   "source": [
    "mean_image = torch.zeros(data[0][0].shape, dtype = data[0][0].dtype)\n",
    "\n",
    "for image, _label in dataloader:\n",
    "    mean_image += image[0, :, :, :] # První dimenze je batch, tady o velikosti 1\n",
    "\n",
    "mean_image /= len(data)"
   ]
  },
  {
   "cell_type": "markdown",
   "metadata": {},
   "source": [
    "Vykreslíme pomocí `matplotlib`:"
   ]
  },
  {
   "cell_type": "code",
   "execution_count": 19,
   "metadata": {},
   "outputs": [
    {
     "data": {
      "text/plain": [
       "<matplotlib.image.AxesImage at 0x7b200577fd10>"
      ]
     },
     "execution_count": 19,
     "metadata": {},
     "output_type": "execute_result"
    },
    {
     "data": {
      "image/png": "[encoded data removed]",
      "text/plain": [
       "<Figure size 1000x1000 with 1 Axes>"
      ]
     },
     "metadata": {},
     "output_type": "display_data"
    }
   ],
   "source": [
    "plt.figure(figsize=(10, 10))\n",
    "plt.xticks([])\n",
    "plt.yticks([])\n",
    "plt.grid(False)\n",
    "plt.imshow(torch.reshape(mean_image, [mean_image.shape[1], mean_image.shape[2]]), cmap = plt.cm.bone)"
   ]
  },
  {
   "cell_type": "markdown",
   "metadata": {},
   "source": [
    "## Automatické počítání gradientu"
   ]
  },
  {
   "cell_type": "markdown",
   "metadata": {},
   "source": [
    "Objekt, který se používá na práci s proměnlivým obsahem, je standardní `torch.Tensor`. Nejzajímavější na něm je **automatické počítání gradientu** vzhledem k operacím prováděným s ním.\n",
    "\n",
    "K tomu se používá parametr `requires_grad = True`, pomocí kterého se zaznamenávají operace se sledovaným tenzorem.\n",
    "Gradient pak spočteme voláním metody `fun.backward()`, který spočte derivaci `fun` podle každé složky `x`. Pokud je `fun` tensor rozměru většího než 1, je potřeba funkci `backward` předat tensor, vzhledem ke kterému se má Jakobián spočítat."
   ]
  },
  {
   "cell_type": "code",
   "execution_count": 20,
   "metadata": {},
   "outputs": [
    {
     "name": "stdout",
     "output_type": "stream",
     "text": [
      "tensor([1., 2., 3.], requires_grad=True)\n"
     ]
    }
   ],
   "source": [
    "x = torch.tensor([1, 2, 3], dtype = torch.float32, requires_grad = True)\n",
    "print(x)"
   ]
  },
  {
   "cell_type": "code",
   "execution_count": 21,
   "metadata": {},
   "outputs": [
    {
     "name": "stdout",
     "output_type": "stream",
     "text": [
      "Derivace x^2: tensor([2., 4., 6.])\n",
      "2*x: tensor([2., 4., 6.])\n"
     ]
    }
   ],
   "source": [
    "f = torch.square(x)\n",
    "f.backward(torch.ones_like(f))\n",
    "\n",
    "print('Derivace x^2:', x.grad)\n",
    "with torch.no_grad():\n",
    "    print('2*x:', 2*x)"
   ]
  },
  {
   "cell_type": "code",
   "execution_count": 22,
   "metadata": {},
   "outputs": [
    {
     "name": "stdout",
     "output_type": "stream",
     "text": [
      "tensor([1., 2., 3.], requires_grad=True)\n"
     ]
    }
   ],
   "source": [
    "x = torch.tensor([1, 2, 3], dtype = torch.float32, requires_grad = True)\n",
    "print(x)"
   ]
  },
  {
   "cell_type": "code",
   "execution_count": 23,
   "metadata": {},
   "outputs": [
    {
     "name": "stdout",
     "output_type": "stream",
     "text": [
      "Derivace sin(x): tensor([ 0.5403, -0.4161, -0.9900])\n",
      "cos(x): tensor([ 0.5403, -0.4161, -0.9900])\n"
     ]
    }
   ],
   "source": [
    "f = torch.sin(x)\n",
    "f.backward(torch.ones_like(f))\n",
    "    \n",
    "print('Derivace sin(x):', x.grad)\n",
    "with torch.no_grad():\n",
    "    print('cos(x):', torch.cos(x))"
   ]
  },
  {
   "cell_type": "markdown",
   "metadata": {},
   "source": [
    "## Jednoduchá síť na MNIST"
   ]
  },
  {
   "cell_type": "markdown",
   "metadata": {},
   "source": [
    "Definujeme základní parametry modelu:"
   ]
  },
  {
   "cell_type": "code",
   "execution_count": 24,
   "metadata": {},
   "outputs": [],
   "source": [
    "batch_size = 50\n",
    "hidden_layer_width = 100\n",
    "output_width = 10\n",
    "learning_rate = 0.01"
   ]
  },
  {
   "cell_type": "markdown",
   "metadata": {},
   "source": [
    "Připravíme si data do tříd DataLoader:"
   ]
  },
  {
   "cell_type": "code",
   "execution_count": 25,
   "metadata": {},
   "outputs": [],
   "source": [
    "data_train = datasets.MNIST(\n",
    "    root = \"data\",\n",
    "    train = True,\n",
    "    download = True,\n",
    "    transform = transforms.Compose([transforms.ToTensor(), transforms.Normalize(0, 1)])\n",
    ")\n",
    "data_test = datasets.MNIST(\n",
    "    root = \"data\",\n",
    "    train = False,\n",
    "    download = True,\n",
    "    transform = transforms.Compose([transforms.ToTensor(), transforms.Normalize(0, 1)])\n",
    ")\n",
    "\n",
    "dataloader_train = DataLoader(data_train, batch_size = batch_size, shuffle = True)\n",
    "dataloader_test = DataLoader(data_test, batch_size = batch_size, shuffle = True)"
   ]
  },
  {
   "cell_type": "markdown",
   "metadata": {},
   "source": [
    "Vytvoříme jednoduchý model neuronové sítě pomocí `torch.nn.Sequential` což je třída, která za sebe poskládá vrstvy, které do ní vložíme (viz předchozí cvičení).\n",
    "\n",
    "Vstupní vrstva je typu `torch.nn.Flatten`, tedy vrstva která převede obrázky do tvaru vektoru (opět automatizace z minulého cvičení).\n",
    "\n",
    "Výslkedkem je instance [tf.nn.Module](https://pytorch.org/docs/main/generated/torch.nn.Module.html)."
   ]
  },
  {
   "cell_type": "code",
   "execution_count": 26,
   "metadata": {},
   "outputs": [
    {
     "data": {
      "text/plain": [
       "Sequential(\n",
       "  (0): Flatten(start_dim=1, end_dim=-1)\n",
       ")"
      ]
     },
     "execution_count": 26,
     "metadata": {},
     "output_type": "execute_result"
    }
   ],
   "source": [
    "model = nn.Sequential()\n",
    "model.append(nn.Flatten())"
   ]
  },
  {
   "cell_type": "markdown",
   "metadata": {},
   "source": [
    "Přidáme jednu skrytou vrstvu se 100 neurony a aktivační funkcí `tanh`"
   ]
  },
  {
   "cell_type": "code",
   "execution_count": 27,
   "metadata": {},
   "outputs": [
    {
     "data": {
      "text/plain": [
       "Sequential(\n",
       "  (0): Flatten(start_dim=1, end_dim=-1)\n",
       "  (1): Linear(in_features=784, out_features=100, bias=True)\n",
       "  (2): Tanh()\n",
       ")"
      ]
     },
     "execution_count": 27,
     "metadata": {},
     "output_type": "execute_result"
    }
   ],
   "source": [
    "model.append(nn.Linear(data_train.data.shape[1] * data_train.data.shape[2], hidden_layer_width))\n",
    "model.append(nn.Tanh())"
   ]
  },
  {
   "cell_type": "markdown",
   "metadata": {},
   "source": [
    "Přidáme výstupní vrstvu s 10 neurony (= počet tříd) a aktivační funkcí softmax\n",
    "$$ \\sigma \\left( \\vec{z} \\right)_i = \\frac{e^{\\vec{z}_i}}{\\sum_{j = 1}^K e^{\\vec{z}_j}} $$"
   ]
  },
  {
   "cell_type": "code",
   "execution_count": 28,
   "metadata": {},
   "outputs": [
    {
     "data": {
      "text/plain": [
       "Sequential(\n",
       "  (0): Flatten(start_dim=1, end_dim=-1)\n",
       "  (1): Linear(in_features=784, out_features=100, bias=True)\n",
       "  (2): Tanh()\n",
       "  (3): Linear(in_features=100, out_features=10, bias=True)\n",
       "  (4): Softmax(dim=1)\n",
       ")"
      ]
     },
     "execution_count": 28,
     "metadata": {},
     "output_type": "execute_result"
    }
   ],
   "source": [
    "model.append(nn.Linear(hidden_layer_width, output_width))\n",
    "model.append(nn.Softmax(dim=1))"
   ]
  },
  {
   "cell_type": "markdown",
   "metadata": {},
   "source": [
    "Vytisknutí modelu nám vytiskne kompletní informace:"
   ]
  },
  {
   "cell_type": "code",
   "execution_count": 29,
   "metadata": {},
   "outputs": [
    {
     "data": {
      "text/plain": [
       "Sequential(\n",
       "  (0): Flatten(start_dim=1, end_dim=-1)\n",
       "  (1): Linear(in_features=784, out_features=100, bias=True)\n",
       "  (2): Tanh()\n",
       "  (3): Linear(in_features=100, out_features=10, bias=True)\n",
       "  (4): Softmax(dim=1)\n",
       ")"
      ]
     },
     "execution_count": 29,
     "metadata": {},
     "output_type": "execute_result"
    }
   ],
   "source": [
    "model"
   ]
  },
  {
   "cell_type": "markdown",
   "metadata": {},
   "source": [
    "Takto vytvořený model zároveň funguje jako funkce a můžeme ho rovnou aplikovat na data.\n",
    "\n",
    "Výskedkem budou vektory pravděpodobností. Protože jsme ale model zatím netrénovali, výsledky budou prakticky náhodné"
   ]
  },
  {
   "cell_type": "code",
   "execution_count": 30,
   "metadata": {},
   "outputs": [
    {
     "data": {
      "text/plain": [
       "tensor([[0.0992, 0.1177, 0.0925, 0.0900, 0.1016, 0.0988, 0.0817, 0.1047, 0.1055,\n",
       "         0.1081]], grad_fn=<SoftmaxBackward0>)"
      ]
     },
     "execution_count": 30,
     "metadata": {},
     "output_type": "execute_result"
    }
   ],
   "source": [
    "model(data_train[0][0])"
   ]
  },
  {
   "cell_type": "markdown",
   "metadata": {},
   "source": [
    "Výslednou \"předpověď\" modelu pak bereme jako položku s nejvyšší pravděpodobností:"
   ]
  },
  {
   "cell_type": "code",
   "execution_count": 31,
   "metadata": {},
   "outputs": [
    {
     "data": {
      "image/png": "[encoded data removed]",
      "text/plain": [
       "<Figure size 1000x700 with 24 Axes>"
      ]
     },
     "metadata": {},
     "output_type": "display_data"
    }
   ],
   "source": [
    "plt.figure(figsize=(10, 7))\n",
    "for i in range(24):\n",
    "    plt.subplot(4, 6, i + 1)\n",
    "    plt.xticks([])\n",
    "    plt.yticks([])\n",
    "    plt.grid(False)\n",
    "    plt.imshow(data_train[i][0].reshape(28, 28), cmap = plt.cm.bone)\n",
    "    plt.title(model(data_train[i][0]).detach().argmax(axis = 1).item())"
   ]
  },
  {
   "cell_type": "markdown",
   "metadata": {},
   "source": [
    "## Trénování modelu\n",
    "\n",
    "Nyní můžeme model natrénovat. Co budeme dále potřebovat:\n",
    "* loss - ztrátová funkce, kterou chceme při trénování minimalizovat,\n",
    "* optimizer - funkce, která pracuje s gradientem a udělá krok gradientního sestupu,\n",
    "\n",
    "Poznámky:\n",
    "* `torch.nn.NLLLoss` je cross-entropie, kde vstup je pravděpodobnostní rozdělení\n",
    "* `torch.nn.CrossEntropyLoss()` je cross-entropie, kde vstup jsou váhy jednotlivých tříd (tj. jejich suma nemusí být 1)\n",
    "\n",
    "Jinými slovy `CrossEntropyLoss` kombinuje `NLLLoss` a `Softmax`.\n",
    "\n",
    "Použijeme stochastický gradientní sestup."
   ]
  },
  {
   "cell_type": "code",
   "execution_count": 32,
   "metadata": {},
   "outputs": [],
   "source": [
    "loss_fn = nn.NLLLoss()\n",
    "optimizer = torch.optim.Adam(model.parameters())\n",
    "epochs = 10"
   ]
  },
  {
   "cell_type": "markdown",
   "metadata": {},
   "source": [
    "K trénování modelu použijeme `DataLoader`, obdobně jako v minulém cvičení. \n",
    "Trénování v mini batchích znamená, že se dataset rozdělí na bločky (mini batche) a pak se pro každý bloček spočítá ztrátová funkce a udělá jede krok gradientního sestupu. Jedna epocha pak znamená projití celého datasetu. V jedné epoše tedy dojde k mnoha krokům gradientního sestupu."
   ]
  },
  {
   "cell_type": "code",
   "execution_count": 33,
   "metadata": {},
   "outputs": [],
   "source": [
    "def calculate_accuracy(model, dataloader):\n",
    "    num_correct = 0\n",
    "    \n",
    "    with torch.no_grad():\n",
    "        for (X, y) in dataloader:\n",
    "            pred = model(X)\n",
    "            num_correct += (pred.argmax(1) == y).type(torch.float).sum().item()\n",
    "\n",
    "    accuracy = num_correct / len(dataloader.dataset)\n",
    "    return accuracy"
   ]
  },
  {
   "cell_type": "code",
   "execution_count": 34,
   "metadata": {},
   "outputs": [],
   "source": [
    "def calculate_loss_accuracy(model, dataloader, loss_fn):\n",
    "    loss = 0\n",
    "    num_correct = 0\n",
    "    \n",
    "    with torch.no_grad():\n",
    "        for (X, y) in dataloader:\n",
    "            pred = model(X)\n",
    "            loss += loss_fn(pred, y).item()\n",
    "            num_correct += (pred.argmax(1) == y).type(torch.float).sum().item()\n",
    "\n",
    "    loss /= len(dataloader)\n",
    "    accuracy = num_correct / len(dataloader.dataset)\n",
    "    return loss, accuracy"
   ]
  },
  {
   "cell_type": "code",
   "execution_count": 35,
   "metadata": {},
   "outputs": [],
   "source": [
    "def train_model(model, loss_fn, optimizer, epochs, dataloader_train, dataloader_test, early_stopper = None, log_period = 10000):\n",
    "    for epoch in range(epochs):\n",
    "        processed_since_log = 0\n",
    "        for batch, (X, y) in enumerate(dataloader_train):\n",
    "            model.train()\n",
    "            pred = model(X)\n",
    "            loss = loss_fn(pred, y)\n",
    "\n",
    "            loss.backward()\n",
    "            optimizer.step()\n",
    "            optimizer.zero_grad()\n",
    "\n",
    "            processed_since_log += dataloader_train.batch_size\n",
    "\n",
    "            if processed_since_log >= log_period:\n",
    "                current = min((batch + 1) * dataloader_train.batch_size, len(data_train))\n",
    "                loss = loss.item()\n",
    "                model.eval()\n",
    "                train_acc = calculate_accuracy(model, dataloader_train)\n",
    "                test_loss, test_acc = calculate_loss_accuracy(model, dataloader_test, loss_fn)\n",
    "                print(f\"train loss: {loss:>7f}  test loss: {test_loss:>7f}  train accuracy: {train_acc:>3f}  test accuracy: {test_acc:>3f}  [sample {current:>5d}/{len(data_train):>5d}] [epoch {epoch+1:>2d}/{epochs:>2d}]\")\n",
    "                processed_since_log -= log_period"
   ]
  },
  {
   "cell_type": "code",
   "execution_count": 36,
   "metadata": {},
   "outputs": [
    {
     "name": "stdout",
     "output_type": "stream",
     "text": [
      "train loss: -0.863523  test loss: -0.847577  train accuracy: 0.891250  test accuracy: 0.895100  [sample 10000/60000] [epoch  1/10]\n",
      "train loss: -0.838423  test loss: -0.886487  train accuracy: 0.910867  test accuracy: 0.913100  [sample 20000/60000] [epoch  1/10]\n",
      "train loss: -0.964829  test loss: -0.901992  train accuracy: 0.920267  test accuracy: 0.922700  [sample 30000/60000] [epoch  1/10]\n",
      "train loss: -0.916569  test loss: -0.911002  train accuracy: 0.927233  test accuracy: 0.926200  [sample 40000/60000] [epoch  1/10]\n",
      "train loss: -0.873857  test loss: -0.917795  train accuracy: 0.932217  test accuracy: 0.929800  [sample 50000/60000] [epoch  1/10]\n",
      "train loss: -0.933380  test loss: -0.922855  train accuracy: 0.937033  test accuracy: 0.935600  [sample 60000/60000] [epoch  1/10]\n",
      "train loss: -0.915446  test loss: -0.927125  train accuracy: 0.941017  test accuracy: 0.937200  [sample 10000/60000] [epoch  2/10]\n",
      "train loss: -0.944780  test loss: -0.931036  train accuracy: 0.943600  test accuracy: 0.941200  [sample 20000/60000] [epoch  2/10]\n",
      "train loss: -0.927854  test loss: -0.932640  train accuracy: 0.945050  test accuracy: 0.941200  [sample 30000/60000] [epoch  2/10]\n",
      "train loss: -0.934817  test loss: -0.936391  train accuracy: 0.949633  test accuracy: 0.945300  [sample 40000/60000] [epoch  2/10]\n",
      "train loss: -0.951415  test loss: -0.937970  train accuracy: 0.950233  test accuracy: 0.946800  [sample 50000/60000] [epoch  2/10]\n",
      "train loss: -0.958932  test loss: -0.940388  train accuracy: 0.953183  test accuracy: 0.949700  [sample 60000/60000] [epoch  2/10]\n",
      "train loss: -0.948936  test loss: -0.941800  train accuracy: 0.954300  test accuracy: 0.949600  [sample 10000/60000] [epoch  3/10]\n",
      "train loss: -0.944973  test loss: -0.941347  train accuracy: 0.954633  test accuracy: 0.949100  [sample 20000/60000] [epoch  3/10]\n",
      "train loss: -0.945654  test loss: -0.944143  train accuracy: 0.957567  test accuracy: 0.953300  [sample 30000/60000] [epoch  3/10]\n",
      "train loss: -0.920119  test loss: -0.947439  train accuracy: 0.960417  test accuracy: 0.954800  [sample 40000/60000] [epoch  3/10]\n",
      "train loss: -0.932270  test loss: -0.949162  train accuracy: 0.962283  test accuracy: 0.956100  [sample 50000/60000] [epoch  3/10]\n",
      "train loss: -0.962557  test loss: -0.949084  train accuracy: 0.962333  test accuracy: 0.956000  [sample 60000/60000] [epoch  3/10]\n",
      "train loss: -0.884771  test loss: -0.949688  train accuracy: 0.963183  test accuracy: 0.956500  [sample 10000/60000] [epoch  4/10]\n",
      "train loss: -0.923819  test loss: -0.952344  train accuracy: 0.965883  test accuracy: 0.958100  [sample 20000/60000] [epoch  4/10]\n",
      "train loss: -0.994963  test loss: -0.951509  train accuracy: 0.965800  test accuracy: 0.957800  [sample 30000/60000] [epoch  4/10]\n",
      "train loss: -0.932218  test loss: -0.949576  train accuracy: 0.965400  test accuracy: 0.954600  [sample 40000/60000] [epoch  4/10]\n",
      "train loss: -0.969750  test loss: -0.954559  train accuracy: 0.968017  test accuracy: 0.960400  [sample 50000/60000] [epoch  4/10]\n",
      "train loss: -0.976555  test loss: -0.955449  train accuracy: 0.968383  test accuracy: 0.961200  [sample 60000/60000] [epoch  4/10]\n",
      "train loss: -0.997636  test loss: -0.954684  train accuracy: 0.968733  test accuracy: 0.960800  [sample 10000/60000] [epoch  5/10]\n",
      "train loss: -0.942629  test loss: -0.956594  train accuracy: 0.970483  test accuracy: 0.962600  [sample 20000/60000] [epoch  5/10]\n",
      "train loss: -0.976798  test loss: -0.957386  train accuracy: 0.971800  test accuracy: 0.962800  [sample 30000/60000] [epoch  5/10]\n",
      "train loss: -0.958124  test loss: -0.956215  train accuracy: 0.971433  test accuracy: 0.961300  [sample 40000/60000] [epoch  5/10]\n",
      "train loss: -0.976641  test loss: -0.959245  train accuracy: 0.973033  test accuracy: 0.963500  [sample 50000/60000] [epoch  5/10]\n",
      "train loss: -0.959286  test loss: -0.959238  train accuracy: 0.973450  test accuracy: 0.964500  [sample 60000/60000] [epoch  5/10]\n",
      "train loss: -0.960833  test loss: -0.960375  train accuracy: 0.973667  test accuracy: 0.965600  [sample 10000/60000] [epoch  6/10]\n",
      "train loss: -0.962816  test loss: -0.960202  train accuracy: 0.974300  test accuracy: 0.964800  [sample 20000/60000] [epoch  6/10]\n",
      "train loss: -0.963551  test loss: -0.961283  train accuracy: 0.975517  test accuracy: 0.966300  [sample 30000/60000] [epoch  6/10]\n",
      "train loss: -0.997818  test loss: -0.961621  train accuracy: 0.975783  test accuracy: 0.965700  [sample 40000/60000] [epoch  6/10]\n",
      "train loss: -0.999048  test loss: -0.960033  train accuracy: 0.976033  test accuracy: 0.965300  [sample 50000/60000] [epoch  6/10]\n",
      "train loss: -0.969227  test loss: -0.961498  train accuracy: 0.976533  test accuracy: 0.966000  [sample 60000/60000] [epoch  6/10]\n",
      "train loss: -0.958618  test loss: -0.960305  train accuracy: 0.975733  test accuracy: 0.965600  [sample 10000/60000] [epoch  7/10]\n",
      "train loss: -0.978161  test loss: -0.962943  train accuracy: 0.977967  test accuracy: 0.967800  [sample 20000/60000] [epoch  7/10]\n",
      "train loss: -0.998523  test loss: -0.961414  train accuracy: 0.976950  test accuracy: 0.966600  [sample 30000/60000] [epoch  7/10]\n",
      "train loss: -0.986947  test loss: -0.963384  train accuracy: 0.979200  test accuracy: 0.967300  [sample 40000/60000] [epoch  7/10]\n",
      "train loss: -0.961540  test loss: -0.963889  train accuracy: 0.979217  test accuracy: 0.968400  [sample 50000/60000] [epoch  7/10]\n",
      "train loss: -0.984498  test loss: -0.963877  train accuracy: 0.979150  test accuracy: 0.968800  [sample 60000/60000] [epoch  7/10]\n",
      "train loss: -0.974115  test loss: -0.964506  train accuracy: 0.980300  test accuracy: 0.968700  [sample 10000/60000] [epoch  8/10]\n",
      "train loss: -0.978184  test loss: -0.964924  train accuracy: 0.980750  test accuracy: 0.968900  [sample 20000/60000] [epoch  8/10]\n",
      "train loss: -0.978013  test loss: -0.964603  train accuracy: 0.980017  test accuracy: 0.969600  [sample 30000/60000] [epoch  8/10]\n",
      "train loss: -0.960753  test loss: -0.965169  train accuracy: 0.981000  test accuracy: 0.968900  [sample 40000/60000] [epoch  8/10]\n",
      "train loss: -0.999465  test loss: -0.966113  train accuracy: 0.981333  test accuracy: 0.970000  [sample 50000/60000] [epoch  8/10]\n",
      "train loss: -0.974203  test loss: -0.965038  train accuracy: 0.982000  test accuracy: 0.969300  [sample 60000/60000] [epoch  8/10]\n",
      "train loss: -0.985412  test loss: -0.963503  train accuracy: 0.981550  test accuracy: 0.967600  [sample 10000/60000] [epoch  9/10]\n",
      "train loss: -0.961698  test loss: -0.964933  train accuracy: 0.981517  test accuracy: 0.969300  [sample 20000/60000] [epoch  9/10]\n",
      "train loss: -0.976818  test loss: -0.965672  train accuracy: 0.982317  test accuracy: 0.969400  [sample 30000/60000] [epoch  9/10]\n",
      "train loss: -0.983958  test loss: -0.967329  train accuracy: 0.983000  test accuracy: 0.970700  [sample 40000/60000] [epoch  9/10]\n",
      "train loss: -0.999497  test loss: -0.967366  train accuracy: 0.983417  test accuracy: 0.970900  [sample 50000/60000] [epoch  9/10]\n",
      "train loss: -0.956810  test loss: -0.966933  train accuracy: 0.983133  test accuracy: 0.970300  [sample 60000/60000] [epoch  9/10]\n",
      "train loss: -0.998781  test loss: -0.967693  train accuracy: 0.983667  test accuracy: 0.970200  [sample 10000/60000] [epoch 10/10]\n",
      "train loss: -0.978697  test loss: -0.965850  train accuracy: 0.983033  test accuracy: 0.969400  [sample 20000/60000] [epoch 10/10]\n",
      "train loss: -0.979586  test loss: -0.967227  train accuracy: 0.983983  test accuracy: 0.970800  [sample 30000/60000] [epoch 10/10]\n",
      "train loss: -0.937398  test loss: -0.967590  train accuracy: 0.984467  test accuracy: 0.969900  [sample 40000/60000] [epoch 10/10]\n",
      "train loss: -0.950516  test loss: -0.965328  train accuracy: 0.982983  test accuracy: 0.969100  [sample 50000/60000] [epoch 10/10]\n",
      "train loss: -0.990662  test loss: -0.967755  train accuracy: 0.984850  test accuracy: 0.971300  [sample 60000/60000] [epoch 10/10]\n"
     ]
    }
   ],
   "source": [
    "train_model(model, loss_fn, optimizer, epochs, dataloader_train, dataloader_test)"
   ]
  },
  {
   "cell_type": "markdown",
   "metadata": {},
   "source": [
    "### Evaluace modelu a predikce\n",
    "\n",
    "K evaluaci modelu na testovací množině využijeme výše implementované funkce."
   ]
  },
  {
   "cell_type": "code",
   "execution_count": 37,
   "metadata": {},
   "outputs": [
    {
     "name": "stdout",
     "output_type": "stream",
     "text": [
      "Test loss: -0.9677545896172524\n",
      "Test accuracy: 0.9713\n"
     ]
    }
   ],
   "source": [
    "model.eval()\n",
    "test_loss, test_acc = calculate_loss_accuracy(model, dataloader_test, loss_fn)\n",
    "print('Test loss:', test_loss)\n",
    "print('Test accuracy:', test_acc)"
   ]
  },
  {
   "cell_type": "markdown",
   "metadata": {},
   "source": [
    "Pokud chceme přímo \"syrové\" hodnoty, můžeme použít model jako funkci:"
   ]
  },
  {
   "cell_type": "code",
   "execution_count": 38,
   "metadata": {},
   "outputs": [
    {
     "name": "stdout",
     "output_type": "stream",
     "text": [
      "Predictions shape: torch.Size([1, 10])\n",
      "Predikce pravděpodobností pro první obrázek: 1.4717500829153352e-10\n"
     ]
    }
   ],
   "source": [
    "predictions = model(data_test[0][0])\n",
    "print('Predictions shape:', predictions.shape)\n",
    "print('Predikce pravděpodobností pro první obrázek:', predictions[0, 0].item())"
   ]
  },
  {
   "cell_type": "markdown",
   "metadata": {},
   "source": [
    "Pro získání predikcí tříd můžeme použít `torch.argmax`, která vrátí index maximální pravděpodobnosti."
   ]
  },
  {
   "cell_type": "code",
   "execution_count": 39,
   "metadata": {},
   "outputs": [
    {
     "name": "stdout",
     "output_type": "stream",
     "text": [
      "Predikce pravděpodobností pro první obrázek: tensor([[1.4718e-10, 2.9802e-14, 5.4084e-09, 1.3733e-07, 3.7540e-14, 1.8435e-09,\n",
      "         8.2348e-18, 1.0000e+00, 2.8652e-10, 3.6700e-08]])\n",
      "Predikce labelu pro první obrázek: 7\n"
     ]
    }
   ],
   "source": [
    "Y_pred = predictions.detach().argmax(dim = 1)\n",
    "print('Predikce pravděpodobností pro první obrázek:', predictions.detach())\n",
    "print('Predikce labelu pro první obrázek:', Y_pred[0].item())"
   ]
  },
  {
   "cell_type": "code",
   "execution_count": 40,
   "metadata": {},
   "outputs": [
    {
     "data": {
      "image/png": "[encoded data removed]",
      "text/plain": [
       "<Figure size 1000x700 with 24 Axes>"
      ]
     },
     "metadata": {},
     "output_type": "display_data"
    }
   ],
   "source": [
    "plt.figure(figsize=(10, 7))\n",
    "for i in range(24):\n",
    "    plt.subplot(4, 6, i + 1)\n",
    "    plt.xticks([])\n",
    "    plt.yticks([])\n",
    "    plt.grid(False)\n",
    "    plt.imshow(data_test[i][0].reshape(28, 28), cmap = plt.cm.bone)\n",
    "    plt.title(model(data_test[i][0]).detach().argmax(axis = 1).item())"
   ]
  },
  {
   "cell_type": "markdown",
   "metadata": {},
   "source": [
    "## Úkol 3 - Manuální vytvoření modelu"
   ]
  },
  {
   "cell_type": "markdown",
   "metadata": {},
   "source": [
    "Definujeme základní parametry modelu:"
   ]
  },
  {
   "cell_type": "code",
   "execution_count": 41,
   "metadata": {},
   "outputs": [],
   "source": [
    "batch_size = 50\n",
    "hidden_layer_width = 100\n",
    "output_width = 10\n",
    "learning_rate = 0.01\n",
    "epochs = 10\n",
    "loss_fn = nn.CrossEntropyLoss()"
   ]
  },
  {
   "cell_type": "markdown",
   "metadata": {},
   "source": [
    "Definuji si proměnné pro neuronovou síť s 1 skrytou vrstvou velikosti 100:"
   ]
  },
  {
   "cell_type": "code",
   "execution_count": 42,
   "metadata": {},
   "outputs": [],
   "source": [
    "# Průměr 0, směrodatná odchylka 0.1\n",
    "W1 = (0.1 * torch.randn((data_train[0][0].shape[1] * data_train[0][0].shape[2], hidden_layer_width))).clone().requires_grad_(True)\n",
    "b1 = torch.zeros((hidden_layer_width,), requires_grad = True)\n",
    "W2 = (0.1 * torch.randn((hidden_layer_width, output_width))).clone().requires_grad_(True)\n",
    "b2 = torch.zeros((output_width,), requires_grad = True)"
   ]
  },
  {
   "cell_type": "markdown",
   "metadata": {},
   "source": [
    "Definujeme funkci vykonávající dopředný chod sítě:"
   ]
  },
  {
   "cell_type": "code",
   "execution_count": 43,
   "metadata": {},
   "outputs": [],
   "source": [
    "def predict(inputs):\n",
    "    inputs_flat = torch.nn.Flatten()(inputs)\n",
    "    output_1 = torch.tanh(inputs_flat.matmul(W1).add(b1))\n",
    "    output_2 = torch.nn.Softmax(dim = 1)(output_1.matmul(W2).add(b2))\n",
    "    return output_2"
   ]
  },
  {
   "cell_type": "markdown",
   "metadata": {},
   "source": [
    "Natrénujeme model:"
   ]
  },
  {
   "cell_type": "code",
   "execution_count": 44,
   "metadata": {},
   "outputs": [
    {
     "name": "stdout",
     "output_type": "stream",
     "text": [
      "train loss: 2.261123  test loss: 2.275561  train accuracy: 0.195883  test accuracy: 0.199700  [sample 10000/60000] [epoch  1/10]\n",
      "train loss: 2.254170  test loss: 2.242683  train accuracy: 0.284983  test accuracy: 0.288100  [sample 20000/60000] [epoch  1/10]\n",
      "train loss: 2.196942  test loss: 2.194842  train accuracy: 0.421450  test accuracy: 0.423600  [sample 30000/60000] [epoch  1/10]\n",
      "train loss: 2.095738  test loss: 2.135336  train accuracy: 0.467950  test accuracy: 0.471100  [sample 40000/60000] [epoch  1/10]\n",
      "train loss: 2.075730  test loss: 2.082044  train accuracy: 0.492250  test accuracy: 0.497000  [sample 50000/60000] [epoch  1/10]\n",
      "train loss: 2.071056  test loss: 2.038416  train accuracy: 0.518533  test accuracy: 0.521600  [sample 60000/60000] [epoch  1/10]\n",
      "train loss: 2.004167  test loss: 1.995537  train accuracy: 0.573267  test accuracy: 0.571400  [sample 10000/60000] [epoch  2/10]\n",
      "train loss: 1.999289  test loss: 1.948872  train accuracy: 0.621867  test accuracy: 0.621600  [sample 20000/60000] [epoch  2/10]\n",
      "train loss: 1.887510  test loss: 1.913604  train accuracy: 0.648783  test accuracy: 0.650400  [sample 30000/60000] [epoch  2/10]\n",
      "train loss: 1.950839  test loss: 1.885273  train accuracy: 0.673950  test accuracy: 0.675500  [sample 40000/60000] [epoch  2/10]\n",
      "train loss: 1.804154  test loss: 1.860868  train accuracy: 0.691650  test accuracy: 0.695300  [sample 50000/60000] [epoch  2/10]\n",
      "train loss: 1.895943  test loss: 1.840953  train accuracy: 0.701817  test accuracy: 0.707600  [sample 60000/60000] [epoch  2/10]\n",
      "train loss: 1.799961  test loss: 1.825161  train accuracy: 0.707483  test accuracy: 0.714200  [sample 10000/60000] [epoch  3/10]\n",
      "train loss: 1.815785  test loss: 1.812182  train accuracy: 0.710417  test accuracy: 0.717000  [sample 20000/60000] [epoch  3/10]\n",
      "train loss: 1.798892  test loss: 1.800546  train accuracy: 0.714367  test accuracy: 0.721200  [sample 30000/60000] [epoch  3/10]\n",
      "train loss: 1.760189  test loss: 1.789115  train accuracy: 0.721200  test accuracy: 0.729700  [sample 40000/60000] [epoch  3/10]\n",
      "train loss: 1.796370  test loss: 1.776325  train accuracy: 0.737450  test accuracy: 0.748900  [sample 50000/60000] [epoch  3/10]\n",
      "train loss: 1.892403  test loss: 1.762594  train accuracy: 0.761667  test accuracy: 0.776300  [sample 60000/60000] [epoch  3/10]\n",
      "train loss: 1.674557  test loss: 1.751475  train accuracy: 0.776650  test accuracy: 0.789400  [sample 10000/60000] [epoch  4/10]\n",
      "train loss: 1.783404  test loss: 1.742447  train accuracy: 0.783733  test accuracy: 0.795500  [sample 20000/60000] [epoch  4/10]\n",
      "train loss: 1.733935  test loss: 1.735095  train accuracy: 0.786417  test accuracy: 0.798700  [sample 30000/60000] [epoch  4/10]\n",
      "train loss: 1.695589  test loss: 1.728405  train accuracy: 0.790483  test accuracy: 0.799800  [sample 40000/60000] [epoch  4/10]\n",
      "train loss: 1.757632  test loss: 1.722629  train accuracy: 0.792600  test accuracy: 0.801800  [sample 50000/60000] [epoch  4/10]\n",
      "train loss: 1.710286  test loss: 1.717238  train accuracy: 0.795350  test accuracy: 0.804100  [sample 60000/60000] [epoch  4/10]\n",
      "train loss: 1.693452  test loss: 1.712618  train accuracy: 0.797317  test accuracy: 0.806100  [sample 10000/60000] [epoch  5/10]\n",
      "train loss: 1.798924  test loss: 1.708106  train accuracy: 0.800267  test accuracy: 0.808800  [sample 20000/60000] [epoch  5/10]\n",
      "train loss: 1.753664  test loss: 1.704312  train accuracy: 0.801133  test accuracy: 0.809800  [sample 30000/60000] [epoch  5/10]\n",
      "train loss: 1.683389  test loss: 1.700761  train accuracy: 0.802967  test accuracy: 0.811400  [sample 40000/60000] [epoch  5/10]\n",
      "train loss: 1.675138  test loss: 1.697274  train accuracy: 0.804533  test accuracy: 0.812900  [sample 50000/60000] [epoch  5/10]\n",
      "train loss: 1.731078  test loss: 1.694158  train accuracy: 0.806233  test accuracy: 0.814000  [sample 60000/60000] [epoch  5/10]\n",
      "train loss: 1.690681  test loss: 1.691310  train accuracy: 0.807117  test accuracy: 0.815000  [sample 10000/60000] [epoch  6/10]\n",
      "train loss: 1.669029  test loss: 1.688643  train accuracy: 0.808500  test accuracy: 0.816200  [sample 20000/60000] [epoch  6/10]\n",
      "train loss: 1.698170  test loss: 1.686136  train accuracy: 0.809633  test accuracy: 0.817500  [sample 30000/60000] [epoch  6/10]\n",
      "train loss: 1.728794  test loss: 1.683839  train accuracy: 0.810783  test accuracy: 0.818200  [sample 40000/60000] [epoch  6/10]\n",
      "train loss: 1.618826  test loss: 1.681677  train accuracy: 0.811517  test accuracy: 0.818100  [sample 50000/60000] [epoch  6/10]\n",
      "train loss: 1.708384  test loss: 1.679504  train accuracy: 0.812833  test accuracy: 0.820700  [sample 60000/60000] [epoch  6/10]\n",
      "train loss: 1.684065  test loss: 1.677443  train accuracy: 0.813633  test accuracy: 0.820700  [sample 10000/60000] [epoch  7/10]\n",
      "train loss: 1.643698  test loss: 1.675740  train accuracy: 0.814317  test accuracy: 0.821200  [sample 20000/60000] [epoch  7/10]\n",
      "train loss: 1.711825  test loss: 1.673961  train accuracy: 0.815583  test accuracy: 0.822400  [sample 30000/60000] [epoch  7/10]\n",
      "train loss: 1.680660  test loss: 1.672194  train accuracy: 0.816300  test accuracy: 0.823200  [sample 40000/60000] [epoch  7/10]\n",
      "train loss: 1.665472  test loss: 1.670588  train accuracy: 0.816967  test accuracy: 0.823600  [sample 50000/60000] [epoch  7/10]\n",
      "train loss: 1.672314  test loss: 1.669113  train accuracy: 0.817817  test accuracy: 0.824300  [sample 60000/60000] [epoch  7/10]\n",
      "train loss: 1.688109  test loss: 1.667639  train accuracy: 0.818350  test accuracy: 0.824900  [sample 10000/60000] [epoch  8/10]\n",
      "train loss: 1.655813  test loss: 1.666312  train accuracy: 0.819067  test accuracy: 0.824900  [sample 20000/60000] [epoch  8/10]\n",
      "train loss: 1.647059  test loss: 1.664889  train accuracy: 0.820050  test accuracy: 0.826600  [sample 30000/60000] [epoch  8/10]\n",
      "train loss: 1.676538  test loss: 1.663694  train accuracy: 0.820433  test accuracy: 0.827000  [sample 40000/60000] [epoch  8/10]\n",
      "train loss: 1.699037  test loss: 1.662328  train accuracy: 0.821150  test accuracy: 0.827100  [sample 50000/60000] [epoch  8/10]\n",
      "train loss: 1.734004  test loss: 1.661028  train accuracy: 0.821850  test accuracy: 0.827900  [sample 60000/60000] [epoch  8/10]\n",
      "train loss: 1.677080  test loss: 1.659859  train accuracy: 0.822700  test accuracy: 0.829100  [sample 10000/60000] [epoch  9/10]\n",
      "train loss: 1.580840  test loss: 1.658777  train accuracy: 0.823450  test accuracy: 0.829900  [sample 20000/60000] [epoch  9/10]\n",
      "train loss: 1.653011  test loss: 1.657176  train accuracy: 0.824500  test accuracy: 0.830000  [sample 30000/60000] [epoch  9/10]\n",
      "train loss: 1.756322  test loss: 1.655814  train accuracy: 0.825533  test accuracy: 0.831800  [sample 40000/60000] [epoch  9/10]\n",
      "train loss: 1.702437  test loss: 1.654386  train accuracy: 0.826683  test accuracy: 0.833300  [sample 50000/60000] [epoch  9/10]\n",
      "train loss: 1.690549  test loss: 1.652947  train accuracy: 0.828150  test accuracy: 0.835000  [sample 60000/60000] [epoch  9/10]\n",
      "train loss: 1.647564  test loss: 1.651369  train accuracy: 0.829833  test accuracy: 0.837100  [sample 10000/60000] [epoch 10/10]\n",
      "train loss: 1.742144  test loss: 1.649625  train accuracy: 0.831933  test accuracy: 0.838700  [sample 20000/60000] [epoch 10/10]\n",
      "train loss: 1.667526  test loss: 1.647351  train accuracy: 0.835683  test accuracy: 0.840800  [sample 30000/60000] [epoch 10/10]\n",
      "train loss: 1.671958  test loss: 1.644507  train accuracy: 0.840150  test accuracy: 0.845700  [sample 40000/60000] [epoch 10/10]\n",
      "train loss: 1.725450  test loss: 1.641586  train accuracy: 0.844533  test accuracy: 0.849300  [sample 50000/60000] [epoch 10/10]\n",
      "train loss: 1.626125  test loss: 1.638283  train accuracy: 0.849467  test accuracy: 0.854600  [sample 60000/60000] [epoch 10/10]\n"
     ]
    }
   ],
   "source": [
    "log_period = 10000\n",
    "\n",
    "for epoch in range(epochs):\n",
    "    processed_since_log = 0\n",
    "    for batch, (X, y) in enumerate(dataloader_train):\n",
    "        pred = predict(X)\n",
    "        loss = loss_fn(pred, y)\n",
    "        loss.backward()\n",
    "\n",
    "        for variable in [W1, b1, W2, b2]:\n",
    "            with torch.no_grad():\n",
    "                variable -= variable.grad * learning_rate\n",
    "            variable.grad = None\n",
    "\n",
    "        processed_since_log += dataloader_train.batch_size\n",
    "\n",
    "        if processed_since_log >= log_period:\n",
    "            current = min((batch + 1) * dataloader_train.batch_size, len(data_train))\n",
    "            loss = loss.item()\n",
    "            train_acc = calculate_accuracy(predict, dataloader_train)\n",
    "            test_loss, test_acc = calculate_loss_accuracy(predict, dataloader_test, loss_fn)\n",
    "            print(f\"train loss: {loss:>7f}  test loss: {test_loss:>7f}  train accuracy: {train_acc:>3f}  test accuracy: {test_acc:>3f}  [sample {current:>5d}/{len(data_train):>5d}] [epoch {epoch+1:>2d}/{epochs:>2d}]\")\n",
    "            processed_since_log -= log_period"
   ]
  },
  {
   "cell_type": "markdown",
   "metadata": {},
   "source": [
    "## Parametry trénování\n",
    "\n",
    "V předchozím příkladu jsme nejrůznější hyper-parametery modelu \"stříleli od boku\", pojďme se tedy podívat, jaké mohou mít hodnoty."
   ]
  },
  {
   "cell_type": "markdown",
   "metadata": {},
   "source": [
    "### Architektura sítě\n",
    "\n",
    "- Počet vrstev\n",
    "- Šířka vrstev\n",
    "- Aktivační funkce\n",
    "    - linear\n",
    "    - tanh\n",
    "    - sigmoid\n",
    "    - hard sigmoid\n",
    "    - relu\n",
    "    - selu\n",
    "    - softmax"
   ]
  },
  {
   "cell_type": "code",
   "execution_count": 45,
   "metadata": {},
   "outputs": [
    {
     "data": {
      "image/png": "[encoded data removed]",
      "text/plain": [
       "<Figure size 2000x2000 with 8 Axes>"
      ]
     },
     "metadata": {},
     "output_type": "display_data"
    }
   ],
   "source": [
    "plt.figure(figsize=(20, 20))\n",
    "i = 1\n",
    "for activationFunction in [nn.Tanh(), nn.Hardtanh(), nn.Sigmoid(), nn.Hardsigmoid(), nn.ReLU(), nn.LeakyReLU(), nn.SELU(), nn.ELU()]:\n",
    "    plt.subplot(4, 4, i)\n",
    "    i += 1\n",
    "    plt.grid(True)\n",
    "    xs = torch.linspace(-5, 5, 100);\n",
    "    ys = activationFunction(xs)\n",
    "    plt.plot(xs, ys)\n",
    "    plt.title(type(activationFunction).__name__)"
   ]
  },
  {
   "cell_type": "markdown",
   "metadata": {},
   "source": [
    "## Ztrátová funkce\n",
    "\n",
    "- Mean square error\n",
    "    $$ \\operatorname{MSE}=\\frac{1}{n}\\sum_{i=1}^n(Y_i-\\hat{Y_i})^2. $$\n",
    "- Hinge\n",
    "    $$ \\operatorname{Hinge} = \\sum_{i=1}^K \\max(0, 1- Y_i \\cdot \\hat{Y_i}) $$\n",
    "- KL divergence\n",
    "    $$ \\operatorname{KL} = - \\sum_{i=1}^K \\hat{Y_i} \\cdot \\log(\\frac{Y_i}{\\hat{Y_i}}) $$\n",
    "- Cross-entropy\n",
    "    $$ \\operatorname{crossentropy} = - \\sum_{i=1}^K Y_i \\cdot \\log(\\hat{Y_i}) $$"
   ]
  },
  {
   "cell_type": "markdown",
   "metadata": {},
   "source": [
    "## Optimalizační algoritmus\n",
    "\n",
    "- SGD\n",
    "- RMSProp\n",
    "- Adagrad\n",
    "- Adam\n",
    "- Adadelta\n",
    "- Adamax\n",
    "- Nadam\n",
    "\n",
    "### Learning schedule\n",
    "\n",
    "Volitelně můžeme optimalizační algoritmy doplnit o tzv. weight decay - tj. postupnou změnu learning rate. Například"
   ]
  },
  {
   "cell_type": "code",
   "execution_count": 46,
   "metadata": {},
   "outputs": [],
   "source": [
    "initial_learning_rate = 0.01\n",
    "batch_count = 64\n",
    "optimizer = torch.optim.SGD(model.parameters(), weight_decay=0.001)"
   ]
  },
  {
   "cell_type": "markdown",
   "metadata": {},
   "source": [
    "Pro pokročilejší algoritmy typicky není weight decay potřeba, protože mají podobnou funkčnost již zabudovanou."
   ]
  },
  {
   "cell_type": "markdown",
   "metadata": {},
   "source": [
    "## Postupné používání datasetu\n",
    "\n",
    "To, jak je dataset použit při trénování je určeno 2 parametry\n",
    "\n",
    "- Epochy: kolikrát je celý dataset použit\n",
    "- Batching: Dataset není použit prvek po prvku, ale vždy je najednou trénováno pomocí celé batch (mini-batch)"
   ]
  },
  {
   "cell_type": "markdown",
   "metadata": {},
   "source": [
    "# Úkol 4\n",
    "\n",
    "Zkuste upravit model na MNISTu a získat co nejlepší přesnost na testovací sadě pomocí výše popsaných parametrů"
   ]
  },
  {
   "cell_type": "markdown",
   "metadata": {},
   "source": [
    "## Řešení"
   ]
  },
  {
   "cell_type": "code",
   "execution_count": 47,
   "metadata": {},
   "outputs": [
    {
     "data": {
      "text/plain": [
       "Sequential(\n",
       "  (0): Flatten(start_dim=1, end_dim=-1)\n",
       "  (1): Linear(in_features=784, out_features=256, bias=True)\n",
       "  (2): Tanh()\n",
       "  (3): Linear(in_features=256, out_features=128, bias=True)\n",
       "  (4): Tanh()\n",
       "  (5): Linear(in_features=128, out_features=10, bias=True)\n",
       ")"
      ]
     },
     "execution_count": 47,
     "metadata": {},
     "output_type": "execute_result"
    }
   ],
   "source": [
    "model = nn.Sequential()\n",
    "model.append(nn.Flatten())\n",
    "model.append(nn.Linear(data_train.data.shape[1] * data_train.data.shape[2], 256))\n",
    "model.append(nn.Tanh())\n",
    "model.append(nn.Linear(256, 128))\n",
    "model.append(nn.Tanh())\n",
    "model.append(nn.Linear(128, 10))"
   ]
  },
  {
   "cell_type": "code",
   "execution_count": 48,
   "metadata": {},
   "outputs": [],
   "source": [
    "loss_fn = nn.CrossEntropyLoss()\n",
    "optimizer = torch.optim.Adam(model.parameters())\n",
    "epochs = 10"
   ]
  },
  {
   "cell_type": "code",
   "execution_count": 49,
   "metadata": {},
   "outputs": [
    {
     "name": "stdout",
     "output_type": "stream",
     "text": [
      "train loss: 0.338758  test loss: 0.299565  train accuracy: 0.910800  test accuracy: 0.912000  [sample 10000/60000] [epoch  1/10]\n",
      "train loss: 0.227153  test loss: 0.264195  train accuracy: 0.922517  test accuracy: 0.917900  [sample 20000/60000] [epoch  1/10]\n",
      "train loss: 0.208995  test loss: 0.228960  train accuracy: 0.932117  test accuracy: 0.930000  [sample 30000/60000] [epoch  1/10]\n",
      "train loss: 0.189605  test loss: 0.177909  train accuracy: 0.950167  test accuracy: 0.947800  [sample 40000/60000] [epoch  1/10]\n",
      "train loss: 0.184078  test loss: 0.171752  train accuracy: 0.951433  test accuracy: 0.946700  [sample 50000/60000] [epoch  1/10]\n",
      "train loss: 0.172762  test loss: 0.150420  train accuracy: 0.958017  test accuracy: 0.955100  [sample 60000/60000] [epoch  1/10]\n",
      "train loss: 0.111701  test loss: 0.142540  train accuracy: 0.961350  test accuracy: 0.957300  [sample 10000/60000] [epoch  2/10]\n",
      "train loss: 0.105450  test loss: 0.129041  train accuracy: 0.965833  test accuracy: 0.959600  [sample 20000/60000] [epoch  2/10]\n",
      "train loss: 0.263741  test loss: 0.130892  train accuracy: 0.965550  test accuracy: 0.960000  [sample 30000/60000] [epoch  2/10]\n",
      "train loss: 0.093583  test loss: 0.112648  train accuracy: 0.971367  test accuracy: 0.965600  [sample 40000/60000] [epoch  2/10]\n",
      "train loss: 0.037761  test loss: 0.105993  train accuracy: 0.972717  test accuracy: 0.967900  [sample 50000/60000] [epoch  2/10]\n",
      "train loss: 0.295007  test loss: 0.106747  train accuracy: 0.973900  test accuracy: 0.966900  [sample 60000/60000] [epoch  2/10]\n",
      "train loss: 0.082235  test loss: 0.106803  train accuracy: 0.974583  test accuracy: 0.967900  [sample 10000/60000] [epoch  3/10]\n",
      "train loss: 0.007658  test loss: 0.105102  train accuracy: 0.974533  test accuracy: 0.966800  [sample 20000/60000] [epoch  3/10]\n",
      "train loss: 0.040506  test loss: 0.100983  train accuracy: 0.977150  test accuracy: 0.967900  [sample 30000/60000] [epoch  3/10]\n",
      "train loss: 0.057069  test loss: 0.106933  train accuracy: 0.975500  test accuracy: 0.967800  [sample 40000/60000] [epoch  3/10]\n",
      "train loss: 0.012411  test loss: 0.096179  train accuracy: 0.980950  test accuracy: 0.969600  [sample 50000/60000] [epoch  3/10]\n",
      "train loss: 0.094714  test loss: 0.089002  train accuracy: 0.982517  test accuracy: 0.971700  [sample 60000/60000] [epoch  3/10]\n",
      "train loss: 0.043625  test loss: 0.082322  train accuracy: 0.984967  test accuracy: 0.973600  [sample 10000/60000] [epoch  4/10]\n",
      "train loss: 0.107952  test loss: 0.092467  train accuracy: 0.982367  test accuracy: 0.971500  [sample 20000/60000] [epoch  4/10]\n",
      "train loss: 0.012627  test loss: 0.085994  train accuracy: 0.984633  test accuracy: 0.972400  [sample 30000/60000] [epoch  4/10]\n",
      "train loss: 0.023610  test loss: 0.097803  train accuracy: 0.980767  test accuracy: 0.969900  [sample 40000/60000] [epoch  4/10]\n",
      "train loss: 0.010067  test loss: 0.090126  train accuracy: 0.985800  test accuracy: 0.971900  [sample 50000/60000] [epoch  4/10]\n",
      "train loss: 0.058548  test loss: 0.079463  train accuracy: 0.987717  test accuracy: 0.974500  [sample 60000/60000] [epoch  4/10]\n",
      "train loss: 0.018729  test loss: 0.081051  train accuracy: 0.988850  test accuracy: 0.973500  [sample 10000/60000] [epoch  5/10]\n",
      "train loss: 0.022274  test loss: 0.071244  train accuracy: 0.989783  test accuracy: 0.976600  [sample 20000/60000] [epoch  5/10]\n",
      "train loss: 0.051258  test loss: 0.078834  train accuracy: 0.989917  test accuracy: 0.975200  [sample 30000/60000] [epoch  5/10]\n",
      "train loss: 0.023192  test loss: 0.074757  train accuracy: 0.990800  test accuracy: 0.976500  [sample 40000/60000] [epoch  5/10]\n",
      "train loss: 0.037492  test loss: 0.080067  train accuracy: 0.989000  test accuracy: 0.975700  [sample 50000/60000] [epoch  5/10]\n",
      "train loss: 0.028486  test loss: 0.072829  train accuracy: 0.991117  test accuracy: 0.976200  [sample 60000/60000] [epoch  5/10]\n",
      "train loss: 0.008844  test loss: 0.073160  train accuracy: 0.991467  test accuracy: 0.976300  [sample 10000/60000] [epoch  6/10]\n",
      "train loss: 0.006555  test loss: 0.070562  train accuracy: 0.993217  test accuracy: 0.978200  [sample 20000/60000] [epoch  6/10]\n",
      "train loss: 0.024861  test loss: 0.073413  train accuracy: 0.991700  test accuracy: 0.975800  [sample 30000/60000] [epoch  6/10]\n",
      "train loss: 0.034354  test loss: 0.078910  train accuracy: 0.990800  test accuracy: 0.974400  [sample 40000/60000] [epoch  6/10]\n",
      "train loss: 0.153791  test loss: 0.073522  train accuracy: 0.991683  test accuracy: 0.978300  [sample 50000/60000] [epoch  6/10]\n",
      "train loss: 0.006656  test loss: 0.071277  train accuracy: 0.994450  test accuracy: 0.977600  [sample 60000/60000] [epoch  6/10]\n",
      "train loss: 0.004779  test loss: 0.071237  train accuracy: 0.993333  test accuracy: 0.979300  [sample 10000/60000] [epoch  7/10]\n",
      "train loss: 0.001542  test loss: 0.065993  train accuracy: 0.995567  test accuracy: 0.980200  [sample 20000/60000] [epoch  7/10]\n",
      "train loss: 0.121217  test loss: 0.069303  train accuracy: 0.994383  test accuracy: 0.979100  [sample 30000/60000] [epoch  7/10]\n",
      "train loss: 0.094454  test loss: 0.074063  train accuracy: 0.993433  test accuracy: 0.975600  [sample 40000/60000] [epoch  7/10]\n",
      "train loss: 0.007323  test loss: 0.070505  train accuracy: 0.994717  test accuracy: 0.978300  [sample 50000/60000] [epoch  7/10]\n",
      "train loss: 0.041710  test loss: 0.072936  train accuracy: 0.995267  test accuracy: 0.977400  [sample 60000/60000] [epoch  7/10]\n",
      "train loss: 0.001136  test loss: 0.065275  train accuracy: 0.996500  test accuracy: 0.980500  [sample 10000/60000] [epoch  8/10]\n",
      "train loss: 0.000750  test loss: 0.064557  train accuracy: 0.997183  test accuracy: 0.981000  [sample 20000/60000] [epoch  8/10]\n",
      "train loss: 0.010641  test loss: 0.078661  train accuracy: 0.994717  test accuracy: 0.977600  [sample 30000/60000] [epoch  8/10]\n",
      "train loss: 0.029244  test loss: 0.066660  train accuracy: 0.996900  test accuracy: 0.981200  [sample 40000/60000] [epoch  8/10]\n",
      "train loss: 0.020359  test loss: 0.076515  train accuracy: 0.994550  test accuracy: 0.978600  [sample 50000/60000] [epoch  8/10]\n",
      "train loss: 0.022485  test loss: 0.079474  train accuracy: 0.995000  test accuracy: 0.978100  [sample 60000/60000] [epoch  8/10]\n",
      "train loss: 0.015766  test loss: 0.077792  train accuracy: 0.996483  test accuracy: 0.978100  [sample 10000/60000] [epoch  9/10]\n",
      "train loss: 0.007288  test loss: 0.068225  train accuracy: 0.997500  test accuracy: 0.980800  [sample 20000/60000] [epoch  9/10]\n",
      "train loss: 0.024278  test loss: 0.092205  train accuracy: 0.990533  test accuracy: 0.974500  [sample 30000/60000] [epoch  9/10]\n",
      "train loss: 0.001400  test loss: 0.072832  train accuracy: 0.996833  test accuracy: 0.980500  [sample 40000/60000] [epoch  9/10]\n",
      "train loss: 0.002088  test loss: 0.070535  train accuracy: 0.997450  test accuracy: 0.979900  [sample 50000/60000] [epoch  9/10]\n",
      "train loss: 0.009429  test loss: 0.069082  train accuracy: 0.997367  test accuracy: 0.979700  [sample 60000/60000] [epoch  9/10]\n",
      "train loss: 0.001175  test loss: 0.077385  train accuracy: 0.997233  test accuracy: 0.977800  [sample 10000/60000] [epoch 10/10]\n",
      "train loss: 0.001134  test loss: 0.077277  train accuracy: 0.997533  test accuracy: 0.978400  [sample 20000/60000] [epoch 10/10]\n",
      "train loss: 0.032974  test loss: 0.078490  train accuracy: 0.997067  test accuracy: 0.978100  [sample 30000/60000] [epoch 10/10]\n",
      "train loss: 0.002713  test loss: 0.077259  train accuracy: 0.997500  test accuracy: 0.979300  [sample 40000/60000] [epoch 10/10]\n",
      "train loss: 0.009790  test loss: 0.072435  train accuracy: 0.995983  test accuracy: 0.979400  [sample 50000/60000] [epoch 10/10]\n",
      "train loss: 0.014181  test loss: 0.079891  train accuracy: 0.995650  test accuracy: 0.979900  [sample 60000/60000] [epoch 10/10]\n"
     ]
    }
   ],
   "source": [
    "train_model(model, loss_fn, optimizer, epochs, dataloader_train, dataloader_test)"
   ]
  },
  {
   "cell_type": "code",
   "execution_count": 50,
   "metadata": {},
   "outputs": [
    {
     "name": "stdout",
     "output_type": "stream",
     "text": [
      "Test loss: 0.07989097681427665\n",
      "Test accuracy: 0.9799\n"
     ]
    }
   ],
   "source": [
    "model.eval()\n",
    "test_loss, test_acc = calculate_loss_accuracy(model, dataloader_test, loss_fn)\n",
    "print('Test loss:', test_loss)\n",
    "print('Test accuracy:', test_acc)"
   ]
  }
 ],
 "metadata": {
  "kernelspec": {
   "display_name": "tzn",
   "language": "python",
   "name": "tzn"
  },
  "language_info": {
   "codemirror_mode": {
    "name": "ipython",
    "version": 3
   },
   "file_extension": ".py",
   "mimetype": "text/x-python",
   "name": "python",
   "nbconvert_exporter": "python",
   "pygments_lexer": "ipython3",
   "version": "3.11.12"
  }
 },
 "nbformat": 4,
 "nbformat_minor": 4
}
